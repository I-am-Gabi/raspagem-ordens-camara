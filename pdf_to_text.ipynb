{
 "cells": [
  {
   "cell_type": "code",
   "execution_count": 1,
   "metadata": {
    "colab": {
     "base_uri": "https://localhost:8080/",
     "height": 187
    },
    "colab_type": "code",
    "id": "3iU85I8eYJMc",
    "outputId": "89db86ff-9bc5-4b96-e4da-0b29f025b8c0"
   },
   "outputs": [
    {
     "name": "stdout",
     "output_type": "stream",
     "text": [
      "Requirement already satisfied: PyPDF2 in c:\\programdata\\anaconda3\\lib\\site-packages (1.26.0)\n"
     ]
    }
   ],
   "source": [
    "!pip install PyPDF2"
   ]
  },
  {
   "cell_type": "code",
   "execution_count": 3,
   "metadata": {
    "colab": {},
    "colab_type": "code",
    "id": "joOJuTZNYeZA"
   },
   "outputs": [],
   "source": [
    "from PyPDF2 import PdfFileReader\n",
    "from nltk.tokenize import SpaceTokenizer \n",
    "import pandas as pd\n",
    "import os\n",
    "import re\n",
    "import numpy as np"
   ]
  },
  {
   "cell_type": "code",
   "execution_count": 14,
   "metadata": {
    "colab": {},
    "colab_type": "code",
    "id": "3kZN1g5UY5h0"
   },
   "outputs": [],
   "source": [
    "root_path = './documents'\n",
    "pdf_files = []\n",
    "\n",
    "# get all pdf files\n",
    "for dir_path, dir_names, filenames in os.walk(root_path):\n",
    "    for filename in [f for f in filenames if f.endswith(\".pdf\")]:\n",
    "        pdf_files.append(os.path.join(dir_path, filename))"
   ]
  },
  {
   "cell_type": "code",
   "execution_count": 23,
   "metadata": {
    "scrolled": true
   },
   "outputs": [],
   "source": [
    "text_data = [] \n",
    "\n",
    "# get pdf content of all documents\n",
    "for file in pdf_files:\n",
    "    pdf_file = PdfFileReader(file)\n",
    "    pdf_text = ''\n",
    "    for page in range(pdf_file.numPages):\n",
    "        pdf_text += pdf_file.getPage(page).extractText()\n",
    "    \n",
    "    pdf_text = pdf_text.replace('\\n', '').replace('\\\\', '')\n",
    "    text_data.append(pdf_text.lower())"
   ]
  },
  {
   "cell_type": "code",
   "execution_count": 24,
   "metadata": {},
   "outputs": [
    {
     "name": "stdout",
     "output_type": "stream",
     "text": [
      "28\n",
      "28\n"
     ]
    },
    {
     "data": {
      "text/plain": [
       "'estado do rio grande do norte câmara municipal do natal  palácio padre miguelinho    1     mesa diretora  ordem do dia: 25/04/2019  presidente:            1º secretário:           2º secretário:             1º orador - ver. dagô do forró  dem - 14h/14h15 2º orador  ver. dickson nasser júnior  psdb- 14h15/14h30 3º orador - ver. dinarte torres - pmb - 14h30/14h45 4º orador  ver.a divaneide basílio - pt - 14h45/15h 5º orador - ver.a eleika bezerra   psl - 15h/15h15 6º orador  ver. eriko jácome  pode - 15h15/15h30                                                       em pauta:  projeto de lei n.º 136/2014  ver. aroldo alves  psdb, subscrito pelo ver. preto aquino  patriota. assunto:                                     - autoriza a compensação de dívidas de qualquer natureza perante o município de natal com créditos líquidos certos, vencidos ou vincendos, ainda de que natureza tributária, de titularidade de servidores públicos municipais e dá outras providências movimento:                             - em segunda discussão com emenda encartada.  projeto de lei n.º 183/2017  ver. felipe alves - mdb assunto:     - dispõe sobre a obrigatoriedade de notificar aos órgãos de proteção da criança e do adolescente os casos de uso de álcool e outras drogas. movimento:                             - em segunda discussão.   estado do rio grande do norte câmara municipal do natal  palácio padre miguelinho    2   projeto de lei n.º 279/2018  ver. bispo francisco de assis - prb assunto:     - dispõe sobre a política municipal de incentivo e fomento às feiras de alimentos orgânicos no âmbito do município de natal, e dá outras providências. movimento:                             - em segunda discussão.  projeto de lei n.º 299/2018  ver. dinarte torres - pmb assunto:     - reconhece como utilidade pública municipal a \"associação cultural padre piná - acpp\", e dá outras providências. movimento:                             - em segunda discussão.  projeto de lei n.º 107/2014  ver. aroldo alves - psdb assunto:     - dispõe sobre a reversão ao patrimônio público do município de natal de área: 10.145.00 m², a qual foi doada para fins de edificação, respectivamente, da sede do egrégio tribunal de justiça do estado do rio grande do norte, e dá outras providências. movimento:                             - em discussão o parecer da comissão de justiça que é contrário.  projeto de lei n.º 194/2017  ver. kleber fernandes - pdt assunto:     - altera a lei nº 6.709/2017, que \"institui o setembro verde\", e dá outras providências. movimento:                             - em discussão os pareceres das comissões técnicas que são favoráveis e em primeira discussão.  projeto de lei n.º 110/2018  ver. ney lopes júnior - psd assunto:     - ficam os veículos de transporte turístico autorizados a circular nos corredores exclusivos de ônibus, neste município, e dá outras providências. movimento:                             - em discussão os pareceres das comissões técnicas que são favoráveis e em primeira discussão.    estado do rio grande do norte câmara municipal do natal  palácio padre miguelinho    3   projeto de lei n.º 239/2018  ver. chagas catarino - pdt assunto:     - destina 5% (cinco por cento) das vagas de concursos públicos do município de natal para os desempregados, e dá outras providências. movimento:                             - em discussão o parecer da comissão de justiça que é contrário.  projeto de decreto legislativo n.º 29/2015 verª amanda gurgel - pstu, verª eleika bezerra  psl, ver. sandro pimentel - psol. assunto:                                - determina a sustação da portaria nº100/2015, da secretaria municipal de educação, de 08 de maio de 2015, e dá outras providências. movimento:                             - em discussão o parecer da comissão de justiça que é contrário e em votação única.  requerimento nº. 01120/2019  ver.a ana paula - psdc assunto:      - requer que seja enviado oficio a urbana, solicitando a limpeza do canteiro central da rua araxá - conjunto pirangi i etapa - neópolis. movimento:    - em discussão única.  requerimento nº. 01123/2019  ver.a ana paula - psdc assunto:      - requer que seja enviado ofício à semsur, solicitando a limpeza da praça tarcísio maia, situada na avenida das alagoas  conjunto pirangi i  neópolis. movimento:    - em discussão única.  requerimento nº. 01125/2019  ver.a ana paula - psdc assunto:      - requer que seja enviado ofício à semov, solicitando a realização de uma mini-drenagem na avenida são miguel dos caribes, em frente casa 4328  conjunto pirangi ii etapa  neópolis. movimento:    - em discussão única.    estado do rio grande do norte câmara municipal do natal  palácio padre miguelinho    4   requerimento nº. 01018/2019  ver. aroldo alves- psdb assunto:      - requer nos termos regimentais da câmara municipal de natal, que seja enviado ofício ao ilustríssimo secretário municipal da urbana, josivan cardoso moreno, solicitando mudança do horário e percurso das caçambas de lixo que fazem a retirada do lixão de cidade nova para o aterro sanitário em ceara mirim. movimento:    - em discussão única.  requerimento nº. 01145/2019  ver. ary gomes - pdt assunto:      - requer que seja enviado ofício à semov, solicitando a manutenção e limpeza da lagoa da av. capitão mor gouveia nas adjacências da rua magnesita e da rua do sal  primeira etapa do conj. potilandia. movimento:    - em discussão única.  requerimento nº. 01146/2019  ver. ary gomes - pdt assunto:      - requer que seja enviado ofício à semov, solicitando a urbanização, cercamento, manutenção e limpeza da lagoa do panatis  localizada na avenida paulistana / avenida acaraú / rua pacajus - potengi. movimento:    - em discussão única  requerimento nº. 01147/2019  ver. ary gomes - pdt assunto:      - requer que seja enviado ofício à semsur, solicitando a varrição, capinação, limpeza e pintura de meio fio da praça lourdes guilherme  localizada rua do cristal de rocha / rua do topázio / rua carvão de pedra - potilândia movimento:    - em discussão única.  requerimento nº. 01075/2019 - ver.ª carla dickson - pros assunto:      - requer que seja enviado ofício à semov, solicitando operação tapa buraco na rua dos pegas, bairro quintas  natal rn. movimento:    - em discussão única.  estado do rio grande do norte câmara municipal do natal  palácio padre miguelinho    5   requerimento nº. 01076/2019 - ver.ª carla dickson - pros                                                                                                                                                                                                                                                        assunto:     - requer que seja enviado ofício à urbana, solicitando, limpeza de canteiro da ponte newton navarro, localizado no bairro santos reis, natal-rn. movimento:    - em discussão única.   requerimento nº. 01077/2019 - ver.ª carla dickson - pros assunto:      - requer que seja enviado ofício à semsur, solicitando podação de árvores, localizado na rua porto alegre, bairro cidade da esperança, cep: 59071-390 natal rn. movimento:    - em discussão única.   requerimento nº. 01038/2019  ver. dagô do forró - dem assunto:    - requer que seja enviado ofício à urbana, solicitando limpeza de mato e lixo no canteiro da av. antônio basílio, entre a av. coronel estevam e a rua sampaio correia, dix-sept rosado, natal/rn. movimento:   - em discussão única  requerimento nº. 01044/2019  ver. dagô do forró - dem assunto:    - requer que seja enviado ofício à semsur, solicitando a troca da lâmpada para uma lâmpada metálica do poste de frente a residência nº 3200, na rua marechal rondon, 3200  candelária, natal/rn. movimento:   - em discussão única  requerimento nº. 01045/2019  ver. dagô do forró - dem assunto:    - requer que seja enviado ofício à semov, solicitando a operação tapa buracos na rua dos pajeús, dix-sept rosado, natal/rn. movimento:   - em discussão única  requerimento nº. 01000/2019  ver. dickson nasser júnior - psdb assunto:    - requer que seja enviado ofício à semov, solicitando o capeamento asfáltico da rua doutor joão machado, bairro do alecrim. movimento:   - em discussão única  estado do rio grande do norte câmara municipal do natal  palácio padre miguelinho    6   requerimento nº. 01001/2019  ver. dickson nasser júnior - psdb assunto:    - requer que seja enviado ofício à semov, solicitando o capeamento asfáltico da rua manoel caetano, bairro da redinha. movimento:   - em discussão única  requerimento nº. 01002/2019  ver. dickson nasser júnior - psdb assunto:    - requer que seja enviado ofício à semov, solicitando o capeamento asfáltico da rua vitória da conquista, no conjunto soledade, bairro potengi. movimento:   - em discussão única  requerimento nº. 01106/2019  ver. dinarte torres - pmb assunto:    - requer que seja enviado ofício à semov, solicitando a efetivação de emenda parlamentar ao orçamento de 2019, relativo à execução de obras de drenagem e pavimentação da tv. doutor pedro lopes cardoso, bairro pajuçara, natal, capital do estado do rio grande do norte. movimento:   - em discussão única  requerimento nº. 01107/2019  ver. dinarte torres - pmb assunto:    - requer que seja enviado ofício à semov, solicitando a efetivação de emenda parlamentar ao orçamento de 2019, relativo à execução de obras de drenagem e pavimentação da rua poeta juvenal antunes, bairro pajuçara, natal, capital do estado do rio grande do norte. movimento:   - em discussão única  requerimento nº. 01108/2019  ver. dinarte torres - pmb assunto:    - requer que seja enviado ofício à semov, solicitando a efetivação de emenda parlamentar ao orçamento de 2019, relativo à execução de obras de drenagem e pavimentação da travessa hirochi ienaga, bairro pajuçara, natal, capital do estado do rio grande do norte. movimento:   - em discussão única    estado do rio grande do norte câmara municipal do natal  palácio padre miguelinho    7   requerimento nº. 01113/2019  vera. divaneide lula basílio - pt assunto:    - requer que seja enviado a semov, em caráter de urgência, drenagem e pavimentação da 4ª travessa umuarama no conjunto santarém, zona norte. movimento:   - em discussão única  requerimento nº. 01148/2019  vera. divaneide lula basílio - pt assunto:    - solicita, em caráter de urgência, a apreciação e aprovação no plenário da nota de repúdio contra a extinção do conselho nacional de direitos da pessoa com deficiência  conade, em nome da comissão de defesa dos direitos das pessoas com deficiência e mobilidade reduzida. movimento:   - em discussão única  requerimento nº. 01149/2019  vera. divaneide lula basílio - pt assunto:    - atendendo ao pedido da comunidade solicito a recuperação da rua ibituda a partir do número 2414 até a rua são joão da barra. a comunidade tem reivindicado a realização dessa obra há muito tempo, especialmente por a rua já ser calçada. no ano de 2013, foi iniciado um esgotamento sanitário que nunca acabou, fazendo buracos na rua , causando, nos períodos de chuva, diversos transtornos para os moradores. movimento:   - em discussão única  requerimento nº. 01084/2019  vera. eleika bezerra - psl assunto:    - requer que seja enviado ofício à semov, solicitando operação tapa buraco na avenida prudente de morais (sentido centro/sul), logo após a passagem de pedestre próxima a drogaria pague menos, no cruzamento com a avenida bernardo vieira, no bairro de lagoa nova. movimento:   - em discussão única  requerimento nº. 01085/2019  vera. eleika bezerra - psl assunto:    - requer que seja enviado ofício à semov, solicitando operação tapa buraco no cruzamento da rua dionísio filgueira com a rua coronel joaquim manoel, no bairro de petrópolis. movimento:   - em discussão única estado do rio grande do norte câmara municipal do natal  palácio padre miguelinho    8   requerimento nº. 01086/2019  vera. eleika bezerra - psl assunto:    - requer que seja enviado ofício à semov, solicitando operação tapa buraco na rua são josé, em trecho próximo ao cruzamento com a avenida alexandrino de alencar, no bairro de lagoa nova. movimento:   - em discussão única  requerimento nº. 01052/2019 - ver. felipe alves  mdb assunto:      - requer que seja enviado ofício à semsur, solicitando em caráter de urgência a reposição dos refletores da academia da terceira idade localizada na praça tarcísio maia, situada na avenida das alagoas, conjunto pirangí, primeira etapa, bairro neópolis, natal/rn. movimento:    - em discussão única.   requerimento nº. 01053/2019 - ver. felipe alves  mdb assunto:      - requer que seja enviado ofício à semsur, solicitando em caráter de urgência a limpeza de toda a praça tarcísio maia, situada na avenida das alagoas, conjunto pirangí, primeira etapa, bairro neópolis, natal/rn. movimento:    - em discussão única.   requerimento nº. 01054/2019 - ver. felipe alves  mdb assunto:      - requer que seja enviado ofício à urbana, solicitando em caráter de urgência a retirada de lixos e entulhos na travessa serrinha com a abreulândia, bairro planalto, natal rn. movimento:    - em discussão única.   requerimento nº. 01071/2019 - ver. fernando lucena - pt  assunto:      - requer que seja enviado ofício à semov, solicitando a drenagem e a reposição de paralelepípedos da rua reverendo willian porto, bairro nova descoberta, zona sul de natal/rn. movimento:    - em discussão única.      estado do rio grande do norte câmara municipal do natal  palácio padre miguelinho    9   requerimento nº. 01072/2019 - ver. fernando lucena - pt  assunto:      - requer que seja enviado ofício à semov, solicitando a drenagem e a reposição de paralelepípedos da rua reverendo willian porto, bairro nova descoberta, zona sul de natal/rn. movimento:    - em discussão única.   requerimento nº. 01073/2019 - ver. fernando lucena - pt  assunto:      - requer que seja enviado ofício à semov, solicitando a manutenção e troca das grades de drenagens de concreto, da rua engenheiro marcelo cabral, bairro nova descoberta, zona sul de natal/rn movimento:    - em discussão única.   requerimento nº. 00988/2019 - ver. franklin capistrano- psb assunto:      - requer que seja enviado ofício à semov, solicitando operação tapa buraco na rua mossoró, próximo a farmácia homeofórmula, no bairro do tirol. movimento:    - em discussão única.   requerimento nº. 00989/2019 - ver. franklin capistrano- psb assunto:      - requer que seja enviado ofício à semsur, solicitando a limpeza, capinação e iluminação da praça do largo interventor ubaldo bezerra, no bairro de candelária. movimento:    - em discussão única.   requerimento nº. 00990/2019 - ver. franklin capistrano- psb assunto:      - requer que seja enviado ofício à semov, solicitando o concerto de galerias, na saída do túnel da ufrn em direção ao posto planalto, no bairro de candelária. movimento:    - em discussão única.       estado do rio grande do norte câmara municipal do natal  palácio padre miguelinho    10   requerimento nº. 01022/2019 - ver. fúlvio saulo  sd assunto:      - requer que seja enviado ofício à secretaria municipal de esporte e lazer  sel, solicitando a reforma da quadra de esportes do bairro da cidade da esperança, natal/rn. movimento:    - em discussão única.  requerimento nº. 01023/2019 - ver. fúlvio saulo  sd assunto:      - requer que seja enviado ofício à urbana, solicitando a limpeza da área interna da policlínica do bairro da cidade da esperança, natal/rn. movimento:    - em discussão única.  requerimento nº. 01046/2019 - ver. fúlvio saulo  sd assunto:      - requer que seja enviado ofício à semov, solicitando a reparação do calçamento, na rua murilo de melo, entre a rua desembargador adauto maia e a av. amintas barros, no bairro de lagoa nova, natal/rn. movimento:    - em discussão única.  requerimento nº. 01031/2019 - ver. klaus araújo - sd assunto:      - requer nos termos regimentais da câmara municipal do natal, requer nos termos regimentais da câmara municipal de natal, que seja marcado seção popular, com o seguinte tpronto atendimento- upa, video monitoramento, capeamento asfáltico da av. de genipabu, reforma e inserção da academia de 3º idade, na praça varela barca e ser realizada no dia 09 de maio do corrente ano as 19h na associação dos moradores de ponta negra e alagamar - ampa bairro: ponta negra. movimento:    - em discussão única.       estado do rio grande do norte câmara municipal do natal  palácio padre miguelinho    11   requerimento nº. 01091/2019 - ver. klaus araújo - sd assunto:      - requer que seja enviado ofício à semurb, solicitando que seja enviado a comissão de planejamento urbano, meio ambiente, transporte e habitação , para prestar esclarecimento sobre o regramento dos food trucks. movimento:    - em discussão única.   requerimento nº. 01109/2019 - ver. klaus araújo - sd assunto:      - requer que seja enviado ofício à semsur, solicitando a manutenção da iluminação da rua trovador gumercino saraiva. village das dunas  pajuçara. cep: 59122-740. movimento:    - em discussão única.   requerimento nº. 00994/2019 - ver. kleber fernandes- pdt assunto:      - requer nos termos regimentais da câmara municipal de natal, que seja enviado ofício à companhia de serviços urbanos de natal (urbana), solicitando a retirada de um ponto de lixo, localizado na esquina da avenida moema tinoco com a rua dr. carlos mesquita, no bairro pajuçara. movimento:    - em discussão única.   requerimento nº. 00995/2019 - ver. kleber fernandes- pdt assunto:      - requer nos termos regimentais da câmara municipal de natal, que seja enviado ofício à secretaria de meio ambiente e urbanismo de natal (semurb), solicitando o serviço de caracterização da área e identificação de um prédio ao lado da cigarreira do pedrinho, localizada na av. brigadeiro gomes ribeira, no bairro nova descoberta. movimento:    - em discussão única.        estado do rio grande do norte câmara municipal do natal  palácio padre miguelinho    12   requerimento nº. 00996/2019 - ver. kleber fernandes- pdt assunto:      - requer nos termos regimentais da câmara municipal do natal, que seja enviado ofício a secretaria municipal de mobilidade urbana (sttu), solicitando o serviço de faixa de pedestre e placas de sinalização nas proximidades da escola centro educacional nosso amiguinho, localizada na rua mearim, bairro pitimbu. movimento:    - em discussão única.  requerimento nº. 01014/2019  ver. luiz almir   sem partido  assunto:      - requer que seja enviado ofício à semov, solicitando o conserto do calçamento (cratera) localizado no cruzamento das ruas alvorada com a são pedro, no bairro de igapó. movimento:    - em discussão única.   requerimento nº. 01017/2019  ver. luiz almir   sem partido  assunto:      - requer que seja enviado ofício à semov, solicitando a execução de serviços de tapa-buraco na rua padre cícero, bairro de cidade nova. movimento:    - em discussão única.  requerimento nº. 01032/2019  ver. luiz almir   sem partido  assunto:      - requer que seja enviado ofício à semov, solicitando a pavimentação da rua santa clara, bairro potengi. esta rua fica próxima ao kintal ii e ao seis em ponto, na zona norte de natal. movimento:    - em discussão única.    requerimento nº. 00979/2019 - ver. maurício gurgel  psol assunto:      - requer ofício semov operação tapa buraco r prof antonio trigueiro x r tibiriçá - felipe camarão movimento:    - em discussão única.      estado do rio grande do norte câmara municipal do natal  palácio padre miguelinho    13   requerimento nº. 00981/2019 - ver. maurício gurgel  psol assunto:      - requer ofício à sttu solicitando construção lombada na trav s. joaquim alecrim - zona leste movimento:    - em discussão única.   requerimento nº. 00982/2019 - ver. maurício gurgel  psol assunto:      - requer à semsur, solicitando substituição da lâmpada amarela por branca r santa cristina  felipe camarão movimento:    - em discussão única.   requerimento nº. 01092/2019  ney lopes júnior - psd assunto:      - requer que seja enviado aos governadores dos estados da região nordeste, uma cópia do artigo intitulado  uma -deputado federal ney lopes de souza. movimento:    - em discussão única.   requerimento nº. 01087/2019 - ver.  paulinho freire - psdb  assunto:       - requer que seja enviado ofício à semsur, solicitando que seja feita a poda das árvores rua nazaré da mata s/n, bairro cidade da esperança. movimento:    - em discussão única.  requerimento nº. 01088/2019 - ver.  paulinho freire - psdb  assunto:       - requer que seja enviado ofício à semsur, solicitando a liberação do espaço público praça sabino mouro cavalcante, localizada entre avenida prudente de morais e alexandrino de alencar. será realizado um evento de ação social beneficiando a comunidade do natal, no dia 27 de abril do corrente ano, com inicio as 09h00min e termino as 17h00minhoras. movimento:    - em discussão única.      estado do rio grande do norte câmara municipal do natal  palácio padre miguelinho    14   requerimento nº. 01089/2019 - ver.  paulinho freire - psdb  assunto:       - requer que seja enviado ofício à semsur, solicitando que seja feita a recuperação do piso do pátio externo da igreja católica nossa senhora da esperança, na rua adolfo gordo, bairro da cidade da esperança. movimento:    - em discussão única.  requerimento nº. 00731/2019 - ver.  preto aquino - patriota  assunto:       - requer que seja enviado o ofício à semov, solicitando a operação tapa buraco na rua felipe dos santos  bairro igapó, sob o cep: 59.104-280 movimento:    - em discussão única.  requerimento nº. 00732/2019 - ver.  preto aquino - patriota assunto:       - requer que seja enviado o ofício à semov, solicitando a operação tapa buraco na rua euclides da cunha  bairro pitimbu (lateral da lagoa do pitimbu), sob o cep 59069-400. movimento:    - em discussão única.  requerimento nº. 00812/2019 - ver.  preto aquino - patriota assunto:       - requer que seja enviado requerimento à semsur, solicitando com a máxima urgência a limpeza geral e poda de árvores da praça mauá no conjunto gramoré  bairro lagoa azul. movimento:    - em discussão única.  requerimento nº. 01043/2019 - ver.  robson carvalho  pmb   assunto:       - requer que seja enviado ofício à semsur, solicitando a poda de árvores localizadas à rua dos potiguares, bairro cidade nova. movimento:    - em discussão única.  '"
      ]
     },
     "execution_count": 24,
     "metadata": {},
     "output_type": "execute_result"
    }
   ],
   "source": [
    "print(len(text_data))\n",
    "print(len(pdf_files))\n",
    "text_data[0]"
   ]
  },
  {
   "cell_type": "code",
   "execution_count": 6,
   "metadata": {},
   "outputs": [],
   "source": [
    "template_dic_keys = ['n requerimento', 'vereador', 'partido', 'assunto']"
   ]
  },
  {
   "cell_type": "code",
   "execution_count": 7,
   "metadata": {},
   "outputs": [],
   "source": [
    "# Achei que iria ficar legal categorizar a informação do texto bruto em uma lista de dicionarios.\n",
    "# Acredito que está funcionando.\n",
    "\n",
    "list_of_dict = []\n",
    "\n",
    "for pdf_text in text_data:\n",
    "    \n",
    "    text_vec = SpaceTokenizer().tokenize(pdf_text)\n",
    "    it = 0\n",
    "    \n",
    "    while it != len(text_vec)-1:\n",
    "        temp_dic = dict.fromkeys(template_dic_keys)   \n",
    "        if text_vec[it] == 'requerimento' and text_vec[it+1] == 'nº.':\n",
    "            temp_dic['n requerimento'] = text_vec[it+2]\n",
    "            it = it + 4\n",
    "            ver_name = ''\n",
    "            while text_vec[it] != '-':\n",
    "                ver_name += text_vec[it]\n",
    "                ver_name += ' '\n",
    "                it += 1\n",
    "            temp_dic['vereador'] = ver_name\n",
    "            temp_dic['partido'] = text_vec[it+1]\n",
    "            it+=8\n",
    "            subject = ''\n",
    "            while text_vec[it] != 'movimento:':\n",
    "                subject += text_vec[it]\n",
    "                subject += ' '\n",
    "                it += 1\n",
    "            temp_dic['assunto'] = subject\n",
    "        it += 1\n",
    "        if temp_dic['assunto']:\n",
    "            list_of_dict.append(temp_dic)\n"
   ]
  },
  {
   "cell_type": "code",
   "execution_count": 8,
   "metadata": {},
   "outputs": [
    {
     "data": {
      "text/plain": [
       "{'n requerimento': '01119/2019',\n",
       " 'vereador': 'ver.a ana paula ',\n",
       " 'partido': 'psdc',\n",
       " 'assunto': '- requer que seja enviado ofício à semsur, solicitando a troca de lâmpada queimada no poste nº g7 330, situado na rua alterosa - conjunto pirangi i etapa - neópolis '}"
      ]
     },
     "execution_count": 8,
     "metadata": {},
     "output_type": "execute_result"
    }
   ],
   "source": [
    "list_of_dict[0]"
   ]
  },
  {
   "cell_type": "code",
   "execution_count": 9,
   "metadata": {},
   "outputs": [
    {
     "data": {
      "text/plain": [
       "{'n requerimento': '00496/2019',\n",
       " 'vereador': 'ver.  sueldo medeiros  phs   assunto:       ',\n",
       " 'partido': 'requer',\n",
       " 'assunto': 'solicitando que o município do natal regulamente, via decreto, a lei federal no 12.846/13. '}"
      ]
     },
     "execution_count": 9,
     "metadata": {},
     "output_type": "execute_result"
    }
   ],
   "source": [
    "list_of_dict[-1]"
   ]
  },
  {
   "cell_type": "code",
   "execution_count": 10,
   "metadata": {},
   "outputs": [],
   "source": [
    "pd.DataFrame.from_dict(list_of_dict).to_csv('requerimentos_data.csv')"
   ]
  }
 ],
 "metadata": {
  "colab": {
   "name": "pdf_to_text.ipynb",
   "provenance": [],
   "version": "0.3.2"
  },
  "kernelspec": {
   "display_name": "Python 3",
   "language": "python",
   "name": "python3"
  },
  "language_info": {
   "codemirror_mode": {
    "name": "ipython",
    "version": 3
   },
   "file_extension": ".py",
   "mimetype": "text/x-python",
   "name": "python",
   "nbconvert_exporter": "python",
   "pygments_lexer": "ipython3",
   "version": "3.7.4"
  }
 },
 "nbformat": 4,
 "nbformat_minor": 1
}
