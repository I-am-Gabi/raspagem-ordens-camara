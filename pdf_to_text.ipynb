{
 "cells": [
  {
   "cell_type": "code",
   "execution_count": 1,
   "metadata": {
    "colab": {
     "base_uri": "https://localhost:8080/",
     "height": 187
    },
    "colab_type": "code",
    "id": "3iU85I8eYJMc",
    "outputId": "89db86ff-9bc5-4b96-e4da-0b29f025b8c0"
   },
   "outputs": [
    {
     "name": "stdout",
     "output_type": "stream",
     "text": [
      "Requirement already satisfied: PyPDF2 in c:\\programdata\\anaconda3\\lib\\site-packages (1.26.0)\n"
     ]
    }
   ],
   "source": [
    "!pip install PyPDF2"
   ]
  },
  {
   "cell_type": "code",
   "execution_count": 2,
   "metadata": {
    "colab": {},
    "colab_type": "code",
    "id": "joOJuTZNYeZA"
   },
   "outputs": [],
   "source": [
    "from PyPDF2 import PdfFileReader\n",
    "import os\n",
    "import re\n",
    "import numpy as np"
   ]
  },
  {
   "cell_type": "code",
   "execution_count": 3,
   "metadata": {
    "colab": {},
    "colab_type": "code",
    "id": "3kZN1g5UY5h0"
   },
   "outputs": [],
   "source": [
    "root_path = './documents'\n",
    "pdf_files = []\n",
    "\n",
    "for dir_path, dir_names, filenames in os.walk(root_path):\n",
    "    for filename in [f for f in filenames if f.endswith(\".pdf\")]:\n",
    "        pdf_files.append(os.path.join(dir_path, filename))"
   ]
  },
  {
   "cell_type": "code",
   "execution_count": 4,
   "metadata": {},
   "outputs": [
    {
     "name": "stderr",
     "output_type": "stream",
     "text": [
      "PdfReadWarning: Superfluous whitespace found in object header b'1' b'0' [pdf.py:1666]\n",
      "PdfReadWarning: Superfluous whitespace found in object header b'2' b'0' [pdf.py:1666]\n",
      "PdfReadWarning: Superfluous whitespace found in object header b'3' b'0' [pdf.py:1666]\n",
      "PdfReadWarning: Superfluous whitespace found in object header b'39' b'0' [pdf.py:1666]\n",
      "PdfReadWarning: Superfluous whitespace found in object header b'42' b'0' [pdf.py:1666]\n",
      "PdfReadWarning: Superfluous whitespace found in object header b'45' b'0' [pdf.py:1666]\n",
      "PdfReadWarning: Superfluous whitespace found in object header b'48' b'0' [pdf.py:1666]\n",
      "PdfReadWarning: Superfluous whitespace found in object header b'51' b'0' [pdf.py:1666]\n",
      "PdfReadWarning: Superfluous whitespace found in object header b'54' b'0' [pdf.py:1666]\n",
      "PdfReadWarning: Superfluous whitespace found in object header b'57' b'0' [pdf.py:1666]\n",
      "PdfReadWarning: Superfluous whitespace found in object header b'60' b'0' [pdf.py:1666]\n",
      "PdfReadWarning: Superfluous whitespace found in object header b'63' b'0' [pdf.py:1666]\n",
      "PdfReadWarning: Superfluous whitespace found in object header b'37' b'0' [pdf.py:1666]\n",
      "PdfReadWarning: Superfluous whitespace found in object header b'40' b'0' [pdf.py:1666]\n",
      "PdfReadWarning: Superfluous whitespace found in object header b'43' b'0' [pdf.py:1666]\n",
      "PdfReadWarning: Superfluous whitespace found in object header b'46' b'0' [pdf.py:1666]\n",
      "PdfReadWarning: Superfluous whitespace found in object header b'49' b'0' [pdf.py:1666]\n",
      "PdfReadWarning: Superfluous whitespace found in object header b'52' b'0' [pdf.py:1666]\n",
      "PdfReadWarning: Superfluous whitespace found in object header b'55' b'0' [pdf.py:1666]\n",
      "PdfReadWarning: Superfluous whitespace found in object header b'58' b'0' [pdf.py:1666]\n",
      "PdfReadWarning: Superfluous whitespace found in object header b'61' b'0' [pdf.py:1666]\n",
      "PdfReadWarning: Superfluous whitespace found in object header b'64' b'0' [pdf.py:1666]\n"
     ]
    }
   ],
   "source": [
    "raw_text = []\n",
    "\n",
    "for file in pdf_files:\n",
    "    pdf_file = PdfFileReader(file)\n",
    "    for page in range(pdf_file.numPages):\n",
    "        raw_text.append(pdf_file.getPage(page).extractText())"
   ]
  },
  {
   "cell_type": "code",
   "execution_count": 7,
   "metadata": {},
   "outputs": [
    {
     "data": {
      "text/plain": [
       "'estado do rio grande do norte\\n \\ncâmara municipal do natal\\n \\n \\npalácio padre \\nmiguelinho\\n \\n \\n \\n \\n2\\n \\n \\n \\nprojeto de lei n.º 278/2017 \\n\\n \\nver. \\nbispo francisco de assis \\n-\\n \\nprb\\n \\nassunto:\\n \\n \\n \\n \\n \\n-\\n \\ndispõe sobre a obrigatoriedade da inclusão de \\nfrases de incentivo a leitura nas contas de água e luz que especifica.\\n \\nmovimento:                             \\n-\\n \\nem discussão os pareceres das comissões \\ntécnicas que são favoráveis e em primeira discussão.\\n \\n \\nproj\\neto de lei n.º \\n110\\n/201\\n8\\n \\n\\n \\nver. \\nney lopes júnior \\n-\\n \\npsd\\n \\nassunto:\\n \\n \\n \\n \\n \\n-\\n \\nficam os veículos de transporte turístico \\nautorizados a circular nos corredores exclusivos de ônibus, neste município, e dá \\noutras providências.\\n \\nmovimento:                             \\n-\\n \\nem discussão os pareceres das comissões \\ntécnicas, que são favoráveis e em primeira discussão.\\n \\n \\nprojeto de lei n.º \\n1\\n70\\n/201\\n8\\n \\n-\\n \\nver.\\na\\n \\ncarla dickson \\n-\\n \\npros\\n \\nassunto:\\n \\n \\n \\n \\n \\n-\\n \\ndispõe sobre a autorização para concessão de \\nbolsa para residentes em medicina de família\\n \\ne comunidade na rede de serviços do \\nsus do município de natal e dá outras providências.\\n \\nmovimento:\\n                             \\n-\\n \\nem discussão o parecer da comissão de \\njustiça que é contrário ao projeto.\\n \\n \\nprojeto de lei n.º 2\\n39\\n/201\\n8\\n \\n\\n \\nver. \\nchagas catarino \\n-\\n \\npdt\\n \\nassunto:\\n \\n \\n \\n \\n \\n-\\n \\ndestina 5% (cinco por cento) das vagas de \\nconcursos públicos do município de natal para os desempregados, e dá outras \\nprovidências.\\n \\nmovimento:                             \\n-\\n \\nem discussão o parecer da comissão de \\njustiça que é contrário.\\n \\n \\nprojeto de\\n \\nlei \\nn.º \\n74\\n/201\\n5\\n \\n\\n \\nver. klaus araújo\\n \\n-\\n \\nsd\\n \\nassunto:\\n \\n \\n \\n \\n \\n-\\n \\ndispõe sobre o cancelamento de créditos extintos \\npor prescrição e decadência, e dá outras providências.\\n \\nmovimento:                             \\n-\\n \\nem\\n \\ndiscussão\\n \\na emenda e\\n \\nos pareceres \\ndas comissões técnicas que são favoráveis e em primeira \\ndiscussão.\\n \\n \\n'"
      ]
     },
     "execution_count": 7,
     "metadata": {},
     "output_type": "execute_result"
    }
   ],
   "source": [
    "processed_text = []\n",
    "for text in raw_text:\n",
    "    #processed_text.append(re.sub('[^A-Za-z0-9]+', '',text).lower()) \n",
    "    processed_text.append(text.lower())\n",
    "processed_text[1]"
   ]
  },
  {
   "cell_type": "code",
   "execution_count": 6,
   "metadata": {},
   "outputs": [
    {
     "name": "stdout",
     "output_type": "stream",
     "text": [
      "10\n"
     ]
    }
   ],
   "source": [
    "key = 'cidadão natalense'\n",
    "total = 0\n",
    "for text in processed_text:\n",
    "    total += text.count(key)\n",
    "    \n",
    "print(total)"
   ]
  }
 ],
 "metadata": {
  "colab": {
   "name": "pdf_to_text.ipynb",
   "provenance": [],
   "version": "0.3.2"
  },
  "kernelspec": {
   "display_name": "Python 3",
   "language": "python",
   "name": "python3"
  },
  "language_info": {
   "codemirror_mode": {
    "name": "ipython",
    "version": 3
   },
   "file_extension": ".py",
   "mimetype": "text/x-python",
   "name": "python",
   "nbconvert_exporter": "python",
   "pygments_lexer": "ipython3",
   "version": "3.6.8"
  }
 },
 "nbformat": 4,
 "nbformat_minor": 1
}
