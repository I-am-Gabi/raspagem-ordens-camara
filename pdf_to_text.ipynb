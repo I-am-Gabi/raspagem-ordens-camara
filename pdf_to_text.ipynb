{
 "cells": [
  {
   "cell_type": "code",
   "execution_count": 1,
   "metadata": {
    "colab": {
     "base_uri": "https://localhost:8080/",
     "height": 187
    },
    "colab_type": "code",
    "id": "3iU85I8eYJMc",
    "outputId": "89db86ff-9bc5-4b96-e4da-0b29f025b8c0"
   },
   "outputs": [
    {
     "name": "stdout",
     "output_type": "stream",
     "text": [
      "Requirement already satisfied: PyPDF2 in c:\\programdata\\anaconda3\\lib\\site-packages (1.26.0)\n"
     ]
    }
   ],
   "source": [
    "!pip install PyPDF2"
   ]
  },
  {
   "cell_type": "code",
   "execution_count": 2,
   "metadata": {
    "colab": {},
    "colab_type": "code",
    "id": "joOJuTZNYeZA"
   },
   "outputs": [],
   "source": [
    "from PyPDF2 import PdfFileReader\n",
    "from nltk.tokenize import SpaceTokenizer \n",
    "import pandas as pd\n",
    "import os\n",
    "import re\n",
    "import numpy as np"
   ]
  },
  {
   "cell_type": "code",
   "execution_count": 3,
   "metadata": {
    "colab": {},
    "colab_type": "code",
    "id": "3kZN1g5UY5h0"
   },
   "outputs": [],
   "source": [
    "root_path = './documents'\n",
    "pdf_files = []\n",
    "\n",
    "for dir_path, dir_names, filenames in os.walk(root_path):\n",
    "    for filename in [f for f in filenames if f.endswith(\".pdf\")]:\n",
    "        pdf_files.append(os.path.join(dir_path, filename))"
   ]
  },
  {
   "cell_type": "code",
   "execution_count": 4,
   "metadata": {
    "scrolled": true
   },
   "outputs": [
    {
     "name": "stderr",
     "output_type": "stream",
     "text": [
      "PdfReadWarning: Superfluous whitespace found in object header b'1' b'0' [pdf.py:1666]\n",
      "PdfReadWarning: Superfluous whitespace found in object header b'2' b'0' [pdf.py:1666]\n",
      "PdfReadWarning: Superfluous whitespace found in object header b'3' b'0' [pdf.py:1666]\n",
      "PdfReadWarning: Superfluous whitespace found in object header b'39' b'0' [pdf.py:1666]\n",
      "PdfReadWarning: Superfluous whitespace found in object header b'42' b'0' [pdf.py:1666]\n",
      "PdfReadWarning: Superfluous whitespace found in object header b'45' b'0' [pdf.py:1666]\n",
      "PdfReadWarning: Superfluous whitespace found in object header b'48' b'0' [pdf.py:1666]\n",
      "PdfReadWarning: Superfluous whitespace found in object header b'51' b'0' [pdf.py:1666]\n",
      "PdfReadWarning: Superfluous whitespace found in object header b'54' b'0' [pdf.py:1666]\n",
      "PdfReadWarning: Superfluous whitespace found in object header b'57' b'0' [pdf.py:1666]\n",
      "PdfReadWarning: Superfluous whitespace found in object header b'60' b'0' [pdf.py:1666]\n",
      "PdfReadWarning: Superfluous whitespace found in object header b'63' b'0' [pdf.py:1666]\n",
      "PdfReadWarning: Superfluous whitespace found in object header b'37' b'0' [pdf.py:1666]\n",
      "PdfReadWarning: Superfluous whitespace found in object header b'40' b'0' [pdf.py:1666]\n",
      "PdfReadWarning: Superfluous whitespace found in object header b'43' b'0' [pdf.py:1666]\n",
      "PdfReadWarning: Superfluous whitespace found in object header b'46' b'0' [pdf.py:1666]\n",
      "PdfReadWarning: Superfluous whitespace found in object header b'49' b'0' [pdf.py:1666]\n",
      "PdfReadWarning: Superfluous whitespace found in object header b'52' b'0' [pdf.py:1666]\n",
      "PdfReadWarning: Superfluous whitespace found in object header b'55' b'0' [pdf.py:1666]\n",
      "PdfReadWarning: Superfluous whitespace found in object header b'58' b'0' [pdf.py:1666]\n",
      "PdfReadWarning: Superfluous whitespace found in object header b'61' b'0' [pdf.py:1666]\n",
      "PdfReadWarning: Superfluous whitespace found in object header b'64' b'0' [pdf.py:1666]\n"
     ]
    }
   ],
   "source": [
    "text_data = []\n",
    "\n",
    "for file in pdf_files:\n",
    "    pdf_file = PdfFileReader(file)\n",
    "    pdf_text = ''\n",
    "    for page in range(pdf_file.numPages):\n",
    "        pdf_text += pdf_file.getPage(page).extractText()\n",
    "       \n",
    "    pdf_text = pdf_text.replace('\\n', '').replace('\\\\', '')\n",
    "    text_data.append(pdf_text.lower())"
   ]
  },
  {
   "cell_type": "code",
   "execution_count": 5,
   "metadata": {},
   "outputs": [
    {
     "name": "stdout",
     "output_type": "stream",
     "text": [
      "28\n",
      "28\n"
     ]
    },
    {
     "data": {
      "text/plain": [
       "'estado do rio grande do norte câmara municipal do natal  palácio padre miguelinho    1     mesa diretora  ordem do dia: 07/05/2019  presidente:            1º secretário:           2º secretário:             1º orador - ver. raniere barbosa  avante - 14h/14h15 2º orador  ver. robson carvalho - pmb - 14h15/14h30 3º orador - ver. sueldo medeiros - phs - 14h30/14h45 4º orador  ver.ª ana paula  psdc - 14h45/15h 5º orador - ver. aroldo alves  psdb - 15h/15h15 6º orador  ver. ary gomes  pdt - 15h15/15h30                                                       em pauta:  projeto de emenda à lei orgânica n.º 5/2016  ex vereador joanilson rego e subscrito pelos vereadores fernando lula lucena  pt, e raniere barbosa - avante.  assunto:     - acrescenta e dá nova redação aos dispositivos da lei orgânica do município de natal, inserindo o princípio da transparência das contas públicas dentre os demais princípios da administração pública. movimento:                                     - em segunda discussão com emenda encartada.  projeto de lei n.º 226/2017  ver. fúlvio saulo  sd subscrito por klaus araújo.  assunto:     - estabelece normas e cria o cadastro estadual de pessoas físicas e jurídicas de veículos que efetuam a exploração e transporte de de água potável no município de natal, e dá outras providências. movimento:                             - em discussão o parecer da comissão de justiça que é contrário. estado do rio grande do norte câmara municipal do natal  palácio padre miguelinho    2   projeto de lei n.º 278/2017  ver. bispo francisco de assis - prb assunto:     - dispõe sobre a obrigatoriedade da inclusão de frases de incentivo a leitura nas contas de água e luz que especifica. movimento:                             - em discussão os pareceres das comissões técnicas que são favoráveis e em primeira discussão.  projeto de lei n.º 110/2018  ver. ney lopes júnior - psd assunto:     - ficam os veículos de transporte turístico autorizados a circular nos corredores exclusivos de ônibus, neste município, e dá outras providências. movimento:                             - em discussão os pareceres das comissões técnicas, que são favoráveis e em primeira discussão.  projeto de lei n.º 170/2018 - ver.a carla dickson - pros assunto:     - dispõe sobre a autorização para concessão de bolsa para residentes em medicina de família e comunidade na rede de serviços do sus do município de natal e dá outras providências. movimento:                             - em discussão o parecer da comissão de justiça que é contrário ao projeto.  projeto de lei n.º 239/2018  ver. chagas catarino - pdt assunto:     - destina 5% (cinco por cento) das vagas de concursos públicos do município de natal para os desempregados, e dá outras providências. movimento:                             - em discussão o parecer da comissão de justiça que é contrário.  projeto de lei n.º 74/2015  ver. klaus araújo - sd assunto:     - dispõe sobre o cancelamento de créditos extintos por prescrição e decadência, e dá outras providências. movimento:                             - em discussão a emenda e os pareceres das comissões técnicas que são favoráveis e em primeira discussão.  estado do rio grande do norte câmara municipal do natal  palácio padre miguelinho    3   projeto de resolução n.º 7/2016  fernando lula lucena - pt assunto:     - determina sobre os (as) trabalhadores (as) terceirizados da câmara municipal de natal, e dá outras providências. movimento:                             - em discussão o parecer de comissão de justiça que é contrário ao projeto.  requerimento nº. 01119/2019  ver.a ana paula - psdc assunto:      - requer que seja enviado ofício à semsur, solicitando a troca de lâmpada queimada no poste nº g7 330, situado na rua alterosa - conjunto pirangi i etapa - neópolis movimento:    - em discussão única.  requerimento nº. 01231/2019  ver.a ana paula - psdc assunto:      - requer que seja enviado ofício à sms, solicitando a reforma do anexo da unidade básica de saúde do conjunto jiqui. movimento:    - em discussão única.  requerimento nº. 01232/2019  ver.a ana paula - psdc assunto:      - requer que seja enviado oficio à semsur, solicitando a realização da limpeza da praça marechal deodoro, situada na avenida das alagoas - conjunto jiqui. movimento:    - em discussão única.  requerimento nº. 01167/2019  ver. aroldo alves - psdb assunto:      - requer nos termos regimentais da câmara municipal de natal, requer que seja enviado ofício ao secretário jonny araújo da costa, secretario semsur, solicitando implantação de uma área coberta de conivência para jogos, como domino, xadrez, aliado e outros, ao lado da quadra de esporte da rua aristófanes fernandes no bairro do bom pastor. movimento:    - em discussão única.     estado do rio grande do norte câmara municipal do natal  palácio padre miguelinho    4   requerimento nº. 01168/2019  ver. aroldo alves - psdb assunto:      - requer nos termos regimentais da câmara municipal de natal, requer que seja enviado ofício ao secretário jonny araújo da costa, secretario semsur, solicitando a implantação de uma academia da 3ª idade, na rua santa helena, em frente ao campo de futebol na comunidade novo horizonte no bairro das quintas. movimento:    - em discussão única.  requerimento nº. 01169/2019  ver. aroldo alves - psdb assunto:      - requer nos termos regimentais da câmara municipal de natal, que seja enviado ofício ao secretário, tomaz pereira de araújo neto, titular da semov, solicitando desobstrução e reconstrução de galeria na rua freitas com a rua nossa senhora da glória no bairro bom pastor. movimento:    - em discussão única.  requerimento nº. 01190/2019 - ver.ª carla dickson - pros assunto:      - requer que seja enviado ofício à semsur, solicitando podação de árvores, localizado na rua minas nova, bairro neópolis, cep: 59088-725 natal  rn. movimento:    - em discussão única.   requerimento nº. 01190/2019 - ver.ª carla dickson - pros                                                                                                                                                                                                                                                        assunto:     - requer que seja enviado ofício à semsur, solicitando podação de árvores, localizado na rua minas nova, bairro neópolis, cep: 59088-725 natal  rn. movimento:    - em discussão única.   requerimento nº. 01191/2019 - ver.ª carla dickson - pros                                                                                                                                                                                                                                                        assunto:     - requer que seja enviado ofício à semsur, solicitando substituição de lâmpadas amarelas por lâmpadas de led, localizado na rua porto alegre, bairro cidade da esperança, cep: 59071-390 natal  rn. movimento:    - em discussão única.   estado do rio grande do norte câmara municipal do natal  palácio padre miguelinho    5   requerimento nº. 01193/2019 - ver.ª carla dickson - pros assunto:      - requer que seja enviado ofício à semov, solicitando terraplanagem, na rua são cristóvão no bairro quintas, cep: 59056-290 natal - rn. movimento:    - em discussão única.   requerimento nº. 01228/2019 - ver. chagas catarino - pdt assunto:      - requer na forma regimental deste poder legislativo, seja encaminhada expediente a excelentíssima prefeito da cidade de natal sr. álvaro dias e ao secretário da semsur  jonny costa, solicitando dos mesmos a troca dos refletores do campo de futebol do monte libano, bom pastor, natal, haja visto que que o mesmo encontra-se com alguns refletores apagados, atendendo aos esportistas daquela comunidade. movimento:    - em discussão única.   requerimento nº. 01229/2019 - ver. chagas catarino - pdt assunto:      - requer na forma regimental deste poder legislativo, seja encaminhada expediente a excelentíssima prefeito da cidade de natal sr. álvaro dias e ao secretário da semsur  tomaz pereira de araújo neto, solicitando dos mesmos uma operação tapa buracos na rua pres. castelo branco, monte libano, bom pastor, natal, atendendo ao pleito dos moradores daquela rua, haja vista que a rua encontra-se intransitável. movimento:    - em discussão única.   requerimento nº. 01176/2019  ver. dagô do forró - dem assunto:    - requer que seja enviado ofício à semsur, solicitando a troca da lâmpada no poste nº g1532, localizado na rua min. raimundo de brito, lagoa nova, natal/rn. movimento:   - em discussão única  requerimento nº. 01177/2019  ver. dagô do forró - dem assunto:    -  requer que seja enviado ofício à semov, solicitando a pavimentação da av. nila jales, lagoa azul, natal/rn. movimento:   - em discussão única estado do rio grande do norte câmara municipal do natal  palácio padre miguelinho    6   requerimento nº. 01093/2019  ver. dickson nasser júnior - psdb assunto:    - requer que seja enviado ofício à semov, solicitando o capeamento asfáltico da rua cláudio machado, bairro de petrópolis. movimento:   - em discussão única  requerimento nº. 01094/2019  ver. dickson nasser júnior - psdb assunto:    - requer que seja enviado ofício à semov, solicitando o capeamento asfáltico da rua miramar, entre a rua cap. mor gouveia e edvar reis, bairro da praia do meio. movimento:   - em discussão única  requerimento nº. 01095/2019  ver. dickson nasser júnior - psdb assunto:    - requer que seja enviado ofício à semov, solicitando o capeamento asfáltico da travessa bom jesus, bairro da ribeira. movimento:   - em discussão única  requerimento nº. 01105/2019  ver. dinarte torres - pmb assunto:    - requer que seja enviado ofício à urbana, solicitando o serviço de limpeza e capinação da rua radialista luiz cordeiro, bairro pajuçara, em natal, capital do estado do rio grande do norte. movimento:   - em discussão única  requerimento nº. 01150/2019  ver. dinarte torres - pmb assunto:    - requer que seja enviado ofício à semurb, solicitando o serviço de identificação e sinalização de logradouros, no loteamento riomar, bairro pajuçara, natal, capital do estado do rio grande do norte. movimento:   - em discussão única  requerimento nº. 01151/2019  ver. dinarte torres - pmb assunto:    - requer que seja enviado ofício à semov, solicitando o serviço de drenagem e pavimentação da rua jardim brasil, loteamento jardim brasil, bairro pajuçara, natal, capital do estado do rio grande do norte. movimento:   - em discussão única  estado do rio grande do norte câmara municipal do natal  palácio padre miguelinho    7   requerimento nº. 01182/2019  vera. divaneide lula basílio - pt assunto:    - requer à urbana, limpeza das bocas de lobo das avenidas a seguir: av. açude de santa rita de cássia e av. barragem armando ribeiro, no conjunto brasil novo. bem como, av. comunidade e ação, no loteamento jardim brasil e av. mar mediterrâneo, parque das dunas, pajuçara. movimento:   - em discussão única  requerimento nº. 01234/2019  vera. divaneide lula basílio - pt assunto:    - requer à semsur, em caráter de urgência, a implantação de braço do poste xo4 655 em frente a casa nº 04 na rua vale do sol, loteamento itamarati - bairro pajuçara/potengi, zona norte de natal. movimento:   - em discussão única  requerimento nº. 01201/2019  vera. eleika bezerra - psl assunto:    - requer que sejam enviados votos de congratulações à associação das voluntárias assistenciais do instituto juvino barreto (avajub) pelos seus 25 anos de voluntariado. movimento:   - em discussão única  requerimento nº. 01202/2019  vera. eleika bezerra - psl assunto:    - requer que seja enviado ofício à semov, solicitando a realização de serviço de drenagem e pavimentação na rua serra do vento, localizada no conjunto parque dos coqueiros, no bairro de nossa senhora da apresentação. movimento:   - em discussão única  requerimento nº. 01203/2019  vera. eleika bezerra - psl assunto:    - requer que seja enviado ofício à semov, solicitando a realização de serviço de drenagem e pavimentação na rua das tulipas negras, localizada no conjunto parque dos coqueiros, no bairro de nossa senhora da apresentação. movimento:   - em discussão única   estado do rio grande do norte câmara municipal do natal  palácio padre miguelinho    8   requerimento nº. 01195/2019 - ver. felipe alves  mdb assunto:      - requer que seja enviado ofício a semsur, solicitando a reposição de lâmpadas queimadas dos seguintes postes: a6 725, l9 714 rua décio fonseca, poste a6 725 rua vereador cauby barroca, poste a6 740, rua mestre lucarino, bairro rocas, natal/rn. movimento:    - em discussão única.   requerimento nº. 01196/2019 - ver. felipe alves  mdb assunto:      - requer nos termos regimentais da câmara municipal do natal, que seja enviado ofício ao sr. secretário, jonny costa, titular da secretaria municipal de serviços urbanos  semsur, solicitando a podação de uma grande árvore que se encontra na praça da rua miramar, rocas, natal/rn. movimento:    - em discussão única.   requerimento nº. 01070/2019 - ver. fernando lula lucena - pt  assunto:      - requer que seja enviado ofício à sttu, solicitando uma faixa de pedestre na av. das fronteiras com a avenida tomaz landim, próximo ao supermercado nordestão, na lateral da loja insinuante, bairro de igapó, zona norte de natal/rn movimento:    - em discussão única.   requerimento nº. 01071/2019 - ver. fernando lula lucena - pt  assunto:      - requer que seja enviado ofício à sttu, solicitando uma faixa de pedestre na av. das fronteiras, em frente a maternidade da mulher, no conjunto santa catarina, zona norte de natal/rn. movimento:    - em discussão única.   requerimento nº. 01179/2019 - ver. fernando lula lucena - pt  assunto:      - requer que seja enviado ofício à urbana, solicitando a limpeza geral (capinação), da lateral do posto de saúde do conjunto vista verde, que se encontra com bastante mato, bairro pajuçara, zona norte de natal/rn movimento:    - em discussão única.   estado do rio grande do norte câmara municipal do natal  palácio padre miguelinho    9   requerimento nº. 01135/2019 - ver. franklin capistrano- psb assunto:      - requer que seja enviado ofício à semov, solicitando operação tapa buraco na rua interventor mário câmara com a av. lima e silva, no bairro nossa senhora de nazaré. movimento:    - em discussão única.   requerimento nº. 01221/2019 - ver. fúlvio saulo  sd assunto:      - requer que seja enviado ofício à semsur, solicitando informações se há algum projeto de urbanização do antigo horto da cidade da esperança, localizado na av. piauí com rua garanhuns , bairro cidade da esperança, natal/rn. movimento:    - em discussão única.  requerimento nº. 01122/2019 - ver. fúlvio saulo  sd assunto:      - requer que seja enviado ofício à semov, solicitando o nivelamento da rua elias de souza, conjunto boa vista, bairro planalto, ao lado do cmei clara camarão, natal/rn. movimento:    - em discussão única.  requerimento nº. 01124/2019 - ver. fúlvio saulo  sd assunto:      - requer que seja enviado ofício à semsur, solicitando a substituição das lâmpadas dos postes a7957 e a7958 que estão queimadas, por lâmpadas mais potentes na av. nascimento de castro, bairro lagoa nova, natal/rn. movimento:    - em discussão única.  requerimento nº. 01217/2019 - ver. klaus araújo - sd assunto:      - requer que seja enviado ofício à semov, solicitando a limpeza e manutenção da boca de lobo, entre as ruas ulisses guimarães e r. josé acácio de macedo (ao lado de acácio bebidas). bairro: redinha. cep.: 59122-145. movimento:    - em discussão única.    estado do rio grande do norte câmara municipal do natal  palácio padre miguelinho    10   requerimento nº. 01218/2019 - ver. klaus araújo - sd assunto:      - requer que seja enviado ofício à semov, solicitando a limpeza e manutenção da boca de lobo, entre as ruas da gameleira e rua são francisco. bairro: redinha. cep: 59122-600 movimento:    - em discussão única.   requerimento nº. 01219/2019 - ver. klaus araújo - sd assunto:      - requer que seja enviado ofício à semov, solicitando a pavimentação na travessa sem nome que está localizada próximo ao anel viário da redinha, entre as ruas conselheiro tristão e padre cícero romão. movimento:    - em discussão única.   requerimento nº. 01126/2019 - ver. kleber fernandes- pdt assunto:      - requer nos termos regimentais da câmara municipal de natal, que seja enviado ofício à secretaria municipal de obras públicas e infra-estrutura (semov), solicitando o serviço de pavimentação asfáltica na avenida bumba meu boi, no bairro de nova natal. movimento:    - em discussão única.   requerimento nº. 01127/2019 - ver. kleber fernandes- pdt assunto:      - requer nos termos regimentais da câmara municipal de natal, que seja enviado ofício à secretaria municipal de obras públicas e infra-estrutura (semov), solicitando o serviço de pavimentação asfáltica na rua poeta revoredo neto, entre a avenida piloto carlos del prestes e a avenida caboclinhos, no bairro nordelandia. movimento:    - em discussão única.  requerimento nº. 01128/2019 - ver. kleber fernandes- pdt assunto:      - requer nos termos regimentais da câmara municipal de natal, que seja enviado ofício à secretaria municipal de obras públicas e infra-estrutura (semov), solicitando o serviço de pavimentação asfáltica na rua tijuana, entre a avenida piloto carlos del prestes e a avenida caboclinhos, no bairro nordelandia. movimento:    - em discussão única. estado do rio grande do norte câmara municipal do natal  palácio padre miguelinho    11   requerimento nº. 01039/2019  ver. luiz almir   sem partido  assunto:      - requer que seja registrado voto de pesar por 1 ano de falecimento da sra. maria lenice tavares custódio, mais conhecida como \"nice conselheira\", ocorrido no dia 29 de abril de 2018. movimento:    - em discussão única.   requerimento nº. 01140/2019  ver. luiz almir   sem partido  assunto:      - requer que seja enviado ofício à semsur, solicitando a troca de lâmpadas queimadas nos postes de nº a3 633 / a3634, localizados na rua construtor severino bezerra, bairro salinas, zona norte de natal. movimento:    - em discussão única.  requerimento nº. 01143/2019  ver. luiz almir   sem partido  assunto:      - requer que seja enviado ofício à semov, solicitando a pavimentação da rua marcos domingos leite, bairro salinas, zona norte de natal. movimento:    - em discussão única.    requerimento nº. 01057/2019 - ver. maurício gurgel  psol assunto:      - requer que seja enviado ofício à sttu, solicitando - instalação de uma placa de proibido parar e estacionar para substituir a anterior que já não se encontra na rua general francisco montenegro, nº 371- lagoa nova. movimento:    - em discussão única.   requerimento nº. 01059/2019 - ver. maurício gurgel  psol assunto:      - requer que seja enviado ofício à urbana, solicitando operação - caçamba para a retirada de lixo acumulado na travessa dr. monteiro de medeiros, com as ruas da jurema e rua mamoeiro , no conj. mar del plata, bairro do potengi.. movimento:    - em discussão única.     estado do rio grande do norte câmara municipal do natal  palácio padre miguelinho    12   requerimento nº. 01060/2019 - ver. maurício gurgel  psol assunto:      - requer que seja enviado ofício a sttu, solicitando construção de uma lombada (quebra mola) e instalação de placas de sinalização ( proibido estacionar) na av. solange nunes do nascimento com a trav. solange nunes do nascimento, no bairro de cidade nova - natal/rn. movimento:    - em discussão única.   requerimento nº. 01204/2019 - ver.  ney lopes júnior - psdb  assunto:       - requer que seja enviado ofício à semov, solicitando operação tapa buraco na rua da tamarineira - felipe camarão, natal - rn, 59074-080 (em frente a escola maria queiroz). movimento:    - em discussão única.  requerimento nº. 01205/2019 - ver.  ney lopes júnior - psdb  assunto:       - requer que seja enviado ofício à sttu, solicitando instalação de sinal na av. dr. joão medeiros filho com a av. guadaluape (em frente a caixa econômica federal). movimento:    - em discussão única.  requerimento nº. 01206/2019 - ver.  ney lopes júnior - psdb  assunto:       - requer que seja enviado ofício à semov, solicitando pavimentação da travessa couto magalhães, bairro nossa senhora da apresentação. movimento:    - em discussão única.  requerimento nº. 01132/2019 - ver.  paulinho freire - psdb  assunto:       - requer que seja enviado ofício à semsur, solicitando que seja feita a poda das árvores da área verde localizada entre as ruas maracanã, cisnes e pintassilgos, conjunto cidade satélite, bairro pitimbu. movimento:    - em discussão única.     estado do rio grande do norte câmara municipal do natal  palácio padre miguelinho    13   requerimento nº. 01134/2019 - ver.  paulinho freire - psdb  assunto:       - requer que seja enviado ofício à urbana, solicitando para que sejam realizados os serviços de limpeza, capinação, pintura do meio-fio e retirada de entulhos da rua patativas, no trecho entre algarobas e pintassilgos. movimento:    - em discussão única.  requerimento nº. 01136/2019 - ver.  paulinho freire - psdb  assunto:       - requer que seja enviado ofício à semsur, solicitando que seja feita a poda das árvores da área verde localizada entre avenida ayrton senna e as ruas fernando de noronha, pernambuco e alameda dos bouganvilles, conjunto neópolis, bairro neópolis. movimento:    - em discussão única.  requerimento nº. 01153/2019 - ver.  preto aquino - patriota  assunto:       - requer que seja enviado o ofício à sel, solicitando as reformas gerais das quadras de esportes localizadas nos conjuntos: cidade satélite e bancários - bairro pitimbu, de acordo com a emenda impositiva totalizando no valor de r$ 516.000,00 (quinhentos e dezesseis mil reais) destinada a essa secretaria (sel). movimento:    - em discussão única.  requerimento nº. 01154/2019 - ver.  preto aquino - patriota assunto:       - requer que seja enviado o ofício à semov, solicitando a realização da drenagem no cruzamento da avenida juliano moreira com a rua toritama, no conjunto pajuçara ii bairro pajuçara, sob o cep: 59131-430. movimento:    - em discussão única.  requerimento nº. 01155/2019 - ver.  preto aquino - patriota assunto:       - requer que seja enviado o ofício à sms (secretaria municipal de saúde), solicitando a criação da central de exames laboratoriais na zona norte. movimento:    - em discussão única. estado do rio grande do norte câmara municipal do natal  palácio padre miguelinho    14   requerimento nº. 01224/2019 - ver.  robson carvalho  pmb   assunto:       - requer que seja enviado ofício à urbana, solicitando a limpeza da calçada de terreno à rua américo soares wanderley, capim macio. movimento:    - em discussão única.  requerimento nº. 01189/2019 - ver.  sueldo medeiros  phs   assunto:       - requer que seja realizada sessão solene para entrega de título de cidadão natalense aos senhores francesco farruggia e dino lincoln figueirôa, no dia 03 de junho de 2019, às 9h, em local externo às dependências da câmara municipal. movimento:    - em discussão única.  requerimento nº. 01194/2019 - ver.  sueldo medeiros  phs   assunto:       - requer que seja realizada sessão solene para entrega de título de cidadão natalense ao senhor andré laurindo maitelli, no dia 22 de agosto de 2019, às 19h. movimento:    - em discussão única.  '"
      ]
     },
     "execution_count": 5,
     "metadata": {},
     "output_type": "execute_result"
    }
   ],
   "source": [
    "print(len(text_data))\n",
    "print(len(pdf_files))\n",
    "text_data[0]"
   ]
  },
  {
   "cell_type": "code",
   "execution_count": 6,
   "metadata": {},
   "outputs": [],
   "source": [
    "template_dic_keys = ['n requerimento', 'vereador', 'partido', 'assunto']"
   ]
  },
  {
   "cell_type": "code",
   "execution_count": 7,
   "metadata": {},
   "outputs": [],
   "source": [
    "# Achei que iria ficar legal categorizar a informação do texto bruto em uma lista de dicionarios.\n",
    "# Acredito que está funcionando.\n",
    "\n",
    "list_of_dict = []\n",
    "\n",
    "for pdf_text in text_data:\n",
    "    \n",
    "    text_vec = SpaceTokenizer().tokenize(pdf_text)\n",
    "    it = 0\n",
    "    \n",
    "    while it != len(text_vec)-1:\n",
    "        temp_dic = dict.fromkeys(template_dic_keys)   \n",
    "        if text_vec[it] == 'requerimento' and text_vec[it+1] == 'nº.':\n",
    "            temp_dic['n requerimento'] = text_vec[it+2]\n",
    "            it = it + 4\n",
    "            ver_name = ''\n",
    "            while text_vec[it] != '-':\n",
    "                ver_name += text_vec[it]\n",
    "                ver_name += ' '\n",
    "                it += 1\n",
    "            temp_dic['vereador'] = ver_name\n",
    "            temp_dic['partido'] = text_vec[it+1]\n",
    "            it+=8\n",
    "            subject = ''\n",
    "            while text_vec[it] != 'movimento:':\n",
    "                subject += text_vec[it]\n",
    "                subject += ' '\n",
    "                it += 1\n",
    "            temp_dic['assunto'] = subject\n",
    "        it += 1\n",
    "        if temp_dic['assunto']:\n",
    "            list_of_dict.append(temp_dic)\n"
   ]
  },
  {
   "cell_type": "code",
   "execution_count": 8,
   "metadata": {},
   "outputs": [
    {
     "data": {
      "text/plain": [
       "{'n requerimento': '01119/2019',\n",
       " 'vereador': 'ver.a ana paula ',\n",
       " 'partido': 'psdc',\n",
       " 'assunto': '- requer que seja enviado ofício à semsur, solicitando a troca de lâmpada queimada no poste nº g7 330, situado na rua alterosa - conjunto pirangi i etapa - neópolis '}"
      ]
     },
     "execution_count": 8,
     "metadata": {},
     "output_type": "execute_result"
    }
   ],
   "source": [
    "list_of_dict[0]"
   ]
  },
  {
   "cell_type": "code",
   "execution_count": 9,
   "metadata": {},
   "outputs": [
    {
     "data": {
      "text/plain": [
       "{'n requerimento': '00496/2019',\n",
       " 'vereador': 'ver.  sueldo medeiros  phs   assunto:       ',\n",
       " 'partido': 'requer',\n",
       " 'assunto': 'solicitando que o município do natal regulamente, via decreto, a lei federal no 12.846/13. '}"
      ]
     },
     "execution_count": 9,
     "metadata": {},
     "output_type": "execute_result"
    }
   ],
   "source": [
    "list_of_dict[-1]"
   ]
  },
  {
   "cell_type": "code",
   "execution_count": 10,
   "metadata": {},
   "outputs": [],
   "source": [
    "pd.DataFrame.from_dict(list_of_dict).to_csv('requerimentos_data.csv')"
   ]
  }
 ],
 "metadata": {
  "colab": {
   "name": "pdf_to_text.ipynb",
   "provenance": [],
   "version": "0.3.2"
  },
  "kernelspec": {
   "display_name": "Python 3",
   "language": "python",
   "name": "python3"
  },
  "language_info": {
   "codemirror_mode": {
    "name": "ipython",
    "version": 3
   },
   "file_extension": ".py",
   "mimetype": "text/x-python",
   "name": "python",
   "nbconvert_exporter": "python",
   "pygments_lexer": "ipython3",
   "version": "3.6.8"
  }
 },
 "nbformat": 4,
 "nbformat_minor": 1
}
