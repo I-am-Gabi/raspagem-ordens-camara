{
 "cells": [
  {
   "cell_type": "code",
   "execution_count": 3,
   "metadata": {},
   "outputs": [],
   "source": [
    "from dotenv import load_dotenv\n",
    "from pathlib import Path\n",
    "env_path = Path('..') / '.env'\n",
    "load_dotenv(dotenv_path=env_path)\n",
    "\n",
    "import os\n",
    "API_KEY_MAPS = os.getenv(\"API_KEY_MAPS\")"
   ]
  },
  {
   "cell_type": "code",
   "execution_count": 4,
   "metadata": {},
   "outputs": [
    {
     "data": {
      "application/vnd.jupyter.widget-view+json": {
       "model_id": "a8f2e38bc0c0499da797bbe7695668e5",
       "version_major": 2,
       "version_minor": 0
      },
      "text/plain": [
       "Figure(layout=FigureLayout(height='420px'))"
      ]
     },
     "metadata": {},
     "output_type": "display_data"
    }
   ],
   "source": [
    "import gmaps\n",
    "gmaps.configure(api_key=API_KEY_MAPS)\n",
    "\n",
    "fig = gmaps.figure(map_type='SATELLITE')\n",
    "\n",
    "# generate some (latitude, longitude) pairs\n",
    "locations = [(-5.8755007, -35.2073034 ), (-5.8646069, -35.2090234 ), (-5.870620499999999, -35.2082005 ), (-5.83157, -35.2078552 ), (-5.7638473, -35.2599618 ), (-5.827516, -35.2097328 ), (-5.8004574, -35.2293142 ), (-5.763701999999999, -35.2011079 ), (-5.8199065, -35.2393627 ), (-5.8109315, -35.2348094 ), (-5.8415886, -35.2181033 ), (-5.802426899999999, -35.2226865 ), (-5.8014423, -35.2178914 ), (-5.7433239, -35.2124908 ), (-5.7535275, -35.2517401 ), (-5.7373002, -35.2313307 ), (-5.74745, -35.2328026 ), (-5.7373002, -35.2313307 ), (-5.7468508, -35.2625001 ), (-5.8123388, -35.2103905 ), (-5.7840719, -35.1944438 ), (-5.8179306, -35.2146319 ), (-5.8646069, -35.2090234 ), (-5.8646069, -35.2090234 ), (-5.8515269, -35.253008 ), (-5.826909199999999, -35.1962686 ), (-5.826909199999999, -35.1962686 ), (-5.8262415, -35.1999089 ), (-5.7877636, -35.2000207 ), (-5.8440813, -35.2203419 ), (-5.7792569, -35.200916 ), (-5.7792569, -35.200916 ), (-5.8153483, -35.2186975 ), (-5.8855377, -35.1706876 ), (-5.7235931, -35.2410145 ), (-5.8232887, -35.199522 ), (-5.7657269, -35.2664651 ), (-5.8242036, -35.2482745 ), (-5.826208599999999, -35.2367482 ), (-5.8123388, -35.2103905 ), (-5.826301, -35.2347398 ), (-5.769978399999999, -35.2583404 ), (-5.851089, -35.2413243 ), (-5.736341599999999, -35.2604535 )]\n",
    "\n",
    "heatmap_layer = gmaps.heatmap_layer(locations)\n",
    "fig.add_layer(heatmap_layer)\n",
    "fig"
   ]
  },
  {
   "cell_type": "code",
   "execution_count": 5,
   "metadata": {},
   "outputs": [
    {
     "data": {
      "application/vnd.jupyter.widget-view+json": {
       "model_id": "c5864f860c5242218dbdfadc563a442c",
       "version_major": 2,
       "version_minor": 0
      },
      "text/plain": [
       "Figure(layout=FigureLayout(height='420px'))"
      ]
     },
     "metadata": {},
     "output_type": "display_data"
    }
   ],
   "source": [
    "fig = gmaps.figure()\n",
    "markers = gmaps.marker_layer(locations)\n",
    "fig.add_layer(markers)\n",
    "fig"
   ]
  },
  {
   "cell_type": "code",
   "execution_count": 6,
   "metadata": {},
   "outputs": [],
   "source": [
    "nuclear_power_plants = [{'address': 'Rua Araxá Conjunto Pirangi ', 'topic': 'requer que seja enviado oficio a URBANA solicitando a limpeza do canteiro central da Rua Araxá Conjunto Pirangi I etapa Neópolis'},\n",
    "{'address': 'Avenida das Alagoas Conjunto ', 'topic': 'Requer que seja enviado ofício à SEMSUR solicitando a limpeza da Praça Tarcísio Maia situada na Avenida das Alagoas Conjunto Pirangi I Neópolis'},\n",
    "{'address': 'Avenida São Miguel dos ', 'topic': 'Requer que seja enviado ofício à SEMOV solicitando a realização de uma minidrenagem na Avenida São Miguel dos Caribes em frente casa 4328 Conjunto Pirangi II etapa Neópolis'},\n",
    "{'address': 'rua Magnesita e da ', 'topic': 'Requer que seja enviado ofício à SEMOV solicitando a MANUTENÇÃO e LIMPEZA da Lagoa da AvCapitão Mor Gouveia nas adjacências da rua Magnesita e da rua do Sal primeira etapa do CONJPOTILANDIA'},\n",
    "{'address': 'Avenida Paulistana / Avenida ', 'topic': 'Requer que seja enviado ofício à SEMOV solicitando a URBANIZAÇÃO CERCAMENTO MANUTENÇÃO e LIMPEZA da LAGOA DO PANATIS localizada na Avenida Paulistana / Avenida Acaraú / Rua Pacajus POTENGI'},\n",
    "{'address': 'Rua do Cristal de ', 'topic': 'Requer que seja enviado ofício à SEMSUR solicitando a VARRIÇÃO CAPINAÇÃO LIMPEZA e PINTURA DE MEIO FIO da Praça Lourdes Guilherme localizada Rua do Cristal de Rocha / Rua do Topázio / Rua Carvão de Pedra POTILÂNDIA '},\n",
    "{'address': 'Rua dos Pegas Bairro ', 'topic': 'Requer que seja enviado ofício à SEMOV solicitando OPERAÇÃO TAPA BURACO na Rua dos Pegas Bairro Quintas Natal RN'},\n",
    "{'address': 'Bairro Santos Reis NatalRN ', 'topic': 'Requer que seja enviado ofício à URBANA solicitando LIMPEZA DE CANTEIRO DA PONTE NEWTON NAVARRO localizado no Bairro Santos Reis NatalRN'},\n",
    "{'address': 'Rua Porto Alegre Bairro ', 'topic': 'Requer que seja enviado ofício à SEMSUR solicitando PODAÇÃO DE ÁRVORES Localizado na Rua Porto Alegre Bairro Cidade da Esperança CEP 59071390 Natal RN'},\n",
    "{'address': 'Rua Sampaio Correia DixSept ', 'topic': 'Requer que seja enviado ofício à URBANA solicitando Limpeza de Mato e lixo no Canteiro da AvAntônio Basílio entre a AvCoronel Estevam e a Rua Sampaio Correia DixSept Rosado Natal/RN'},\n",
    "{'address': 'Rua Marechal Rondon 3200 ', 'topic': 'Requer que seja enviado ofício à SEMSUR solicitando a troca da lâmpada para uma lâmpada metálica do poste de frente a residência nº 3200 na Rua Marechal Rondon 3200 Candelária Natal/RN'},\n",
    "{'address': 'Rua dos Pajeús DixSept ', 'topic': 'Requer que seja enviado ofício à SEMOV solicitando a Operação Tapa Buracos na Rua dos Pajeús DixSept Rosado Natal/RN'},\n",
    "{'address': 'Rua Doutor João Machado ', 'topic': 'Requer que seja enviado ofício à SEMOV solicitando o capeamento asfáltico da Rua Doutor João Machado bairro do Alecrim'},\n",
    "{'address': 'Rua Manoel Caetano bairro ', 'topic': 'Requer que seja enviado ofício à SEMOV solicitando o capeamento asfáltico da Rua Manoel Caetano bairro da Redinha'},\n",
    "{'address': 'Rua Vitória da Conquista ', 'topic': 'Requer que seja enviado ofício à SEMOV solicitando o capeamento asfáltico da Rua Vitória da Conquista no Conjunto Soledade bairro Potengi'},\n",
    "{'address': 'Bairro Pajuçara Natal Capital ', 'topic': 'Requer que seja enviado ofício à SEMOV solicitando a efetivação de Emenda Parlamentar ao Orçamento de 2019 relativo à execução de obras de drenagem e pavimentação da TVDoutor Pedro Lopes Cardoso Bairro Pajuçara Natal Capital do Estado do Rio Grande do Norte'},\n",
    "{'address': 'Rua Poeta Juvenal Antunes ', 'topic': 'Requer que seja enviado ofício à SEMOV solicitando a efetivação de Emenda Parlamentar ao Orçamento de 2019 relativo à execução de obras de drenagem e pavimentação da Rua Poeta Juvenal Antunes Bairro Pajuçara Natal Capital do Estado do Rio Grande do Norte'},\n",
    "{'address': 'Bairro Pajuçara Natal Capital ', 'topic': 'Requer que seja enviado ofício à SEMOV solicitando a efetivação de Emenda Parlamentar ao Orçamento de 2019 relativo à execução de obras de drenagem e pavimentação da Travessa Hirochi Ienaga Bairro Pajuçara Natal Capital do Estado do Rio Grande do Norte'},\n",
    "{'address': 'Rua Ibituda a partir ', 'topic': 'Atendendo ao pedido da comunidade solicito a recuperação da Rua Ibituda a partir do número 2414 até a rua São João da BarraA comunidade tem reivindicado a realização dessa obra há muito tempo especialmente por a rua já ser calçadaNo ano de 2013 foi iniciado um esgotamento sanitário que nunca acabou fazendo buracos na rua causando nos períodos de chuva diversos transtornos para os moradores'},\n",
    "{'address': 'Avenida Prudente de Morais ', 'topic': 'Requer que seja enviado ofício à SEMOV solicitando operação tapa buraco na Avenida Prudente de Morais sentido centro/sul logo após a passagem de pedestre próxima a Drogaria Pague Menos no cruzamento com a Avenida Bernardo Vieira no bairro de Lagoa Nova'},\n",
    "{'address': 'Rua Dionísio Filgueira com ', 'topic': 'Requer que seja enviado ofício à SEMOV solicitando operação tapa buraco no cruzamento da Rua Dionísio Filgueira com a Rua Coronel Joaquim Manoel no bairro de Petrópolis'},\n",
    "{'address': 'Rua São José em ', 'topic': 'Requer que seja enviado ofício à SEMOV solicitando operação tapa buraco na Rua São José em trecho próximo ao cruzamento com a avenida Alexandrino de Alencar no bairro de Lagoa Nova'},\n",
    "{'address': 'Avenida das Alagoas conjunto ', 'topic': 'Requer que seja enviado ofício à SEMSUR solicitando em caráter de urgência a reposição dos Refletores da Academia da Terceira Idade localizada na Praça Tarcísio Maia situada na Avenida das Alagoas conjunto Pirangí Primeira Etapa Bairro Neópolis Natal/RN'},\n",
    "{'address': 'Avenida das Alagoas Conjunto ', 'topic': 'Requer que seja enviado ofício à SEMSUR solicitando em caráter de urgência a Limpeza de Toda a Praça Tarcísio Maia situada na Avenida das Alagoas Conjunto Pirangí Primeira Etapa Bairro Neópolis Natal/RN'},\n",
    "{'address': 'Bairro Planalto Natal RN ', 'topic': 'Requer que seja Enviado Ofício à Urbana solicitando em caráter de Urgência a Retirada de Lixos e Entulhos na Travessa Serrinha com a Abreulândia Bairro Planalto Natal RN'},\n",
    "{'address': 'Rua Reverendo Willian Porto ', 'topic': 'Requer que seja enviado ofício à SEMOV solicitando a drenagem e a reposição de paralelepípedos da Rua Reverendo Willian Porto Bairro Nova Descoberta zona sul de Natal/RN'},\n",
    "{'address': 'Rua Reverendo Willian Porto ', 'topic': 'Requer que seja enviado ofício à SEMOV solicitando a drenagem e a reposição de paralelepípedos da Rua Reverendo Willian Porto Bairro Nova Descoberta zona sul de Natal/RN'},\n",
    "{'address': 'Rua Engenheiro Marcelo Cabral ', 'topic': 'Requer que seja enviado ofício à SEMOV solicitando a manutenção e troca das grades de drenagens de concreto da Rua Engenheiro Marcelo Cabral Bairro Nova Descoberta zona sul de Natal/RN '},\n",
    "{'address': 'Rua Mossoró próximo a ', 'topic': 'Requer que seja enviado ofício à SEMOV solicitando operação tapa buraco na Rua Mossoró próximo a Farmácia Homeofórmula no bairro do Tirol'},\n",
    "{'address': 'bairro de Candelária ', 'topic': 'Requer que seja enviado ofício à SEMSUR solicitando a limpeza capinação e iluminação da Praça do Largo Interventor Ubaldo Bezerra no bairro de Candelária'},\n",
    "{'address': 'bairro da Cidade da ', 'topic': 'Requer que seja enviado ofício à Secretaria Municipal de Esporte e Lazer SEL solicitando a reforma da quadra de esportes do bairro da Cidade da Esperança Natal/RN'},\n",
    "{'address': 'bairro da Cidade da ', 'topic': 'Requer que seja enviado ofício à URBANA solicitando a limpeza da área interna da Policlínica do bairro da Cidade da Esperança Natal/RN'},\n",
    "{'address': 'Rua Murilo de Melo ', 'topic': 'Requer que seja enviado ofício à SEMOV solicitando a reparação do calçamento na Rua Murilo de Melo entre a Rua Desembargador Adauto Maia e a AvAmintas Barros no bairro de Lagoa Nova Natal/RN'},\n",
    "{'address': 'Bairro Ponta Negra ', 'topic': 'Requer nos termos regimentais da Câmara Municipal do Natal Requer nos termos regimentais da Câmara Municipal de Natal que seja marcado Seção Popular com o seguinte tPronto atendimento UPA Video Monitoramento Capeamento asfáltico da AVde Genipabu reforma e inserção da academia de 3º idade na praça Varela Barca e ser realizada no dia 09 de Maio do corrente ano as 19h na Associação dos Moradores de Ponta Negra e Alagamar AMPA Bairro Ponta Negra'},\n",
    "{'address': 'Avenida Moema Tinoco com ', 'topic': 'Requer nos termos regimentais da Câmara Municipal de Natal que seja enviado ofício à Companhia de Serviços Urbanos de Natal URBANA solicitando a retirada de um ponto de lixo localizado na esquina da Avenida Moema Tinoco com a Rua Dr. Carlos Mesquita no Bairro Pajuçara'},\n",
    "{'address': 'Bairro Nova Descoberta ', 'topic': 'Requer nos termos regimentais da Câmara Municipal de Natal que seja enviado ofício à Secretaria de Meio Ambiente e Urbanismo de Natal SEMURB solicitando o serviço de caracterização da área e identificação de um prédio ao lado da cigarreira do Pedrinho localizada na AvBrigadeiro Gomes Ribeira no Bairro Nova Descoberta'},\n",
    "{'address': 'bairro de Igapó ', 'topic': 'Requer que seja enviado ofício à SEMOV solicitando o conserto do calçamento cratera localizado no cruzamento das ruas Alvorada com a São Pedro no bairro de Igapó'},\n",
    "{'address': 'Rua Santa Clara bairro ', 'topic': 'Requer que seja enviado ofício à SEMOV solicitando a pavimentação da Rua Santa Clara bairro PotengiEsta rua fica próxima ao Kintal II e ao Seis Em Ponto na zona norte de Natal'},\n",
    "{'address': 'Rua Nazaré da Mata ', 'topic': 'Requer que seja enviado ofício à SEMSUR solicitando que seja feita a poda das árvores Rua Nazaré da Mata s/n bairro Cidade da Esperança'},\n",
    "{'address': 'Avenida Prudente de Morais ', 'topic': 'Requer que seja enviado ofício à SEMSUR solicitando a liberação do espaço público Praça SABINO MOURO CAVALCANTE localizada entre Avenida Prudente de Morais e Alexandrino de AlencarSerá realizado um evento de Ação Social beneficiando a comunidade do Natal no dia 27 de Abril do corrente ano com inicio as 09h00min e termino as 17h00minhoras'},\n",
    "{'address': 'Rua Adolfo Gordo bairro ', 'topic': 'Requer que seja enviado ofício à SEMSUR solicitando que seja feita a recuperação do piso do pátio externo da Igreja Católica Nossa Senhora da Esperança na Rua Adolfo Gordo bairro da Cidade da Esperança'},\n",
    "{'address': 'Rua Felipe dos Santos ', 'topic': 'Requer que seja enviado o ofício à SEMOV solicitando a OPERAÇÃO TAPA BURACO na Rua Felipe dos Santos Bairro Igapó sob o CEP 59.104280 '},\n",
    "{'address': 'Rua Euclides da Cunha ', 'topic': 'Requer que seja enviado o ofício à SEMOV solicitando a OPERAÇÃO TAPA BURACO na Rua Euclides da Cunha Bairro Pitimbu lateral da Lagoa do Pitimbu sob o CEP 59069400'},\n",
    "{'address': 'Bairro Lagoa Azul ', 'topic': 'Requer que seja enviado requerimento à SEMSUR solicitando com a máxima urgência a Limpeza Geral e Poda de Árvores da Praça Mauá no Conjunto Gramoré Bairro Lagoa Azul'}]"
   ]
  },
  {
   "cell_type": "code",
   "execution_count": 7,
   "metadata": {},
   "outputs": [
    {
     "data": {
      "application/vnd.jupyter.widget-view+json": {
       "model_id": "6ba6c5d79b2c4b349a745d5d54b0e930",
       "version_major": 2,
       "version_minor": 0
      },
      "text/plain": [
       "Figure(layout=FigureLayout(height='420px'))"
      ]
     },
     "metadata": {},
     "output_type": "display_data"
    }
   ],
   "source": [
    "import gmaps\n",
    "gmaps.configure(api_key=API_KEY_MAPS)\n",
    " \n",
    "info_box_template = \"\"\"\n",
    "<dl>\n",
    "<dt>Pauta</dt><dd>{topic}</dd> \n",
    "</dl>\n",
    "\"\"\"\n",
    "plant_info = [info_box_template.format(**plant) for plant in nuclear_power_plants]\n",
    "\n",
    "marker_layer = gmaps.marker_layer(locations, info_box_content=plant_info)\n",
    "fig = gmaps.figure()\n",
    "fig.add_layer(marker_layer)\n",
    "fig"
   ]
  },
  {
   "cell_type": "code",
   "execution_count": null,
   "metadata": {},
   "outputs": [],
   "source": []
  }
 ],
 "metadata": {
  "kernelspec": {
   "display_name": "Python 3",
   "language": "python",
   "name": "python3"
  },
  "language_info": {
   "codemirror_mode": {
    "name": "ipython",
    "version": 3
   },
   "file_extension": ".py",
   "mimetype": "text/x-python",
   "name": "python",
   "nbconvert_exporter": "python",
   "pygments_lexer": "ipython3",
   "version": "3.7.4"
  }
 },
 "nbformat": 4,
 "nbformat_minor": 2
}
