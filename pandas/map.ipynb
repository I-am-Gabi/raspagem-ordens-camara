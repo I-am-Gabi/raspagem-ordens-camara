{
 "cells": [
  {
   "cell_type": "code",
   "execution_count": 17,
   "metadata": {},
   "outputs": [],
   "source": [
    "from dotenv import load_dotenv\n",
    "from pathlib import Path\n",
    "env_path = Path('..') / '.env'\n",
    "load_dotenv(dotenv_path=env_path)\n",
    "\n",
    "import os\n",
    "API_KEY_MAPS = os.getenv(\"API_KEY_MAPS\")"
   ]
  },
  {
   "cell_type": "code",
   "execution_count": 18,
   "metadata": {},
   "outputs": [],
   "source": [
    "from pymongo import MongoClient\n",
    "\n",
    "client = MongoClient()  \n",
    "db = client['webscraping'] # access db\n",
    "collection = db['documents'] # access collection"
   ]
  },
  {
   "cell_type": "code",
   "execution_count": 19,
   "metadata": {},
   "outputs": [],
   "source": [
    "def search_topics_with_address(document):\n",
    "    topics = []\n",
    "\n",
    "    for pauta in document.get('pautas', []):\n",
    "        if (pauta['assunto'].lower().find(' rua ') > 0) or (pauta['assunto'].lower().find(' avenida ') > 0) or (pauta['assunto'].lower().find(' bairro ') > 0):\n",
    "            topics.append(pauta['assunto'])\n",
    "\n",
    "    flag = False\n",
    "    address = \"\"\n",
    "    adresses = []\n",
    "    count = 1\n",
    "    for topic in topics:\n",
    "        for word in topic.split(' '):\n",
    "            if word.lower() in ['rua', 'avenida', 'bairro'] or flag:\n",
    "                flag = True\n",
    "                address += word + ' '\n",
    "                count += 1\n",
    "            if count == 5:\n",
    "                flag = False\n",
    "                count = 1\n",
    "                break\n",
    "        if \"Requer\" not in address:\n",
    "            adresses.append({'address': address, 'topic': topic})\n",
    "        address = \"\"\n",
    "    return adresses"
   ]
  },
  {
   "cell_type": "code",
   "execution_count": 20,
   "metadata": {},
   "outputs": [],
   "source": [
    "#from bson.objectid import ObjectId\n",
    "\n",
    "#document = collection.find_one(\n",
    "#        {'_id': ObjectId('5dbc3d2cfcaa0c48eadcac4a')})"
   ]
  },
  {
   "cell_type": "markdown",
   "metadata": {},
   "source": [
    "### total de pautas que falam de infraestrutura"
   ]
  },
  {
   "cell_type": "code",
   "execution_count": 21,
   "metadata": {},
   "outputs": [
    {
     "name": "stdout",
     "output_type": "stream",
     "text": [
      "56 documentos\n",
      "pautas infra estrutura 1080 | total de pautas 1773\n",
      "60.91\n"
     ]
    }
   ],
   "source": [
    "documents = list(collection.find())\n",
    "print('%s documentos' % len(list(documents)))\n",
    "addrs = []\n",
    "total_pautas = 0\n",
    "for document in documents: \n",
    "    if not document: continue \n",
    "    addrs.extend(search_topics_with_address(document))\n",
    "    total_pautas += len(document.get('pautas', []))\n",
    "addrs[:1]\n",
    "print('pautas infra estrutura %s | total de pautas %s' % (len(addrs), total_pautas))\n",
    "print('%0.2f' % ((len(addrs)*100)/total_pautas))"
   ]
  },
  {
   "cell_type": "code",
   "execution_count": 24,
   "metadata": {},
   "outputs": [],
   "source": [
    "# import json \n",
    "# print(json.dumps(addrs, ensure_ascii=False)) "
   ]
  },
  {
   "cell_type": "markdown",
   "metadata": {},
   "source": [
    "### pegar a lat,lng dos endereços"
   ]
  },
  {
   "cell_type": "markdown",
   "metadata": {},
   "source": [
    "```\n",
    "import googlemaps\n",
    "\n",
    "\n",
    "gmaps_client = googlemaps.Client(key=API_KEY_MAPS)\n",
    "geocode_result = gmaps_client.geocode('Natal, RN') \n",
    "\n",
    "locations = []\n",
    "locations_details = []\n",
    "for addr in addrs:\n",
    "        # Geocoding an address\n",
    "        geocode_result = gmaps_client.geocode(\n",
    "            '{}, Natal, RN'.format(addr['address']))\n",
    "        #print('{}, Natal, RN: {}'.format(location['address'], location['topic'])) \n",
    "        locations.append((geocode_result[0]['geometry']['location']['lat'], \n",
    "                     geocode_result[0]['geometry']['location']['lng']))\n",
    "        \n",
    "        details = {'address': addr['address'], 'topic': addr['topic']}\n",
    "        locations_details.append(details)\n",
    "```"
   ]
  },
  {
   "cell_type": "markdown",
   "metadata": {},
   "source": [
    "### salvar em arquivo"
   ]
  },
  {
   "cell_type": "markdown",
   "metadata": {},
   "source": [
    "```\n",
    "with open('locations.txt', 'w') as fp:\n",
    "    fp.write(str(locations))\n",
    "    \n",
    "with open('locations_details.txt', 'w') as fp:\n",
    "    fp.write(str(locations_details))\n",
    "```"
   ]
  },
  {
   "cell_type": "code",
   "execution_count": 22,
   "metadata": {},
   "outputs": [
    {
     "name": "stdout",
     "output_type": "stream",
     "text": [
      "[(-5.8750126, -35.2096997), (-5.8646069, -35.2090234), (-5.870620499999999, -35.2082005), (-5.83157, -35.2078552)]\n",
      "[{'address': 'Rua Araxá Conjunto Pirangi ', 'topic': 'requer que seja enviado oficio a URBANA , solicitando a limpeza do canteiro central da Rua Araxá Conjunto Pirangi I etapa Neópolis'}, {'address': 'Avenida das Alagoas Conjunto ', 'topic': 'Requer que seja enviado ofício à SEMSUR , solicitando a limpeza da Praça Tarcísio Maia , situada na Avenida das Alagoas Conjunto Pirangi I Neópolis'}]\n"
     ]
    }
   ],
   "source": [
    "import ast\n",
    "\n",
    "\n",
    "t = open('locations.txt').read()\n",
    "locations = list(ast.literal_eval(t))\n",
    "print(locations[:4])\n",
    "\n",
    "t = open('locations_details.txt').read()\n",
    "locations_details = ast.literal_eval(t)\n",
    "print(locations_details[:2])"
   ]
  },
  {
   "cell_type": "code",
   "execution_count": 23,
   "metadata": {},
   "outputs": [
    {
     "data": {
      "application/vnd.jupyter.widget-view+json": {
       "model_id": "2f902dbd26b3478ba90ba24af904abaa",
       "version_major": 2,
       "version_minor": 0
      },
      "text/plain": [
       "Figure(layout=FigureLayout(height='420px'))"
      ]
     },
     "metadata": {},
     "output_type": "display_data"
    }
   ],
   "source": [
    "import gmaps\n",
    "gmaps.configure(api_key=API_KEY_MAPS)\n",
    "\n",
    "fig = gmaps.figure(map_type='SATELLITE')\n",
    "\n",
    "heatmap_layer = gmaps.heatmap_layer(locations)\n",
    "fig.add_layer(heatmap_layer)\n",
    "fig"
   ]
  },
  {
   "cell_type": "code",
   "execution_count": 24,
   "metadata": {},
   "outputs": [
    {
     "data": {
      "application/vnd.jupyter.widget-view+json": {
       "model_id": "118b5291b30041e98c58e5fc640925aa",
       "version_major": 2,
       "version_minor": 0
      },
      "text/plain": [
       "Figure(layout=FigureLayout(height='420px'))"
      ]
     },
     "metadata": {},
     "output_type": "display_data"
    }
   ],
   "source": [
    "import gmaps\n",
    "gmaps.configure(api_key=API_KEY_MAPS)\n",
    " \n",
    "info_box_template = \"\"\"\n",
    "    <dl>\n",
    "        <dt>Pauta</dt>\n",
    "        <dd>{topic}</dd> \n",
    "    </dl>\n",
    "\"\"\"\n",
    "locations_info = [info_box_template.format(**location) for location in locations_details]\n",
    "\n",
    "marker_layer = gmaps.marker_layer(locations, info_box_content=locations_info)\n",
    "fig = gmaps.figure()\n",
    "fig.add_layer(marker_layer)\n",
    "fig"
   ]
  },
  {
   "cell_type": "code",
   "execution_count": 25,
   "metadata": {
    "scrolled": false
   },
   "outputs": [
    {
     "data": {
      "application/vnd.jupyter.widget-view+json": {
       "model_id": "a61f15f98141410d932e1230efe34d9c",
       "version_major": 2,
       "version_minor": 0
      },
      "text/plain": [
       "Figure(layout=FigureLayout(height='1200px'))"
      ]
     },
     "metadata": {},
     "output_type": "display_data"
    }
   ],
   "source": [
    "info_box_template = \"\"\"\n",
    "    <dl>\n",
    "        <dt>Pauta</dt>\n",
    "        <dd>{topic}</dd> \n",
    "    </dl>\n",
    "\"\"\"\n",
    "plant_info = [info_box_template.format(**plant) for plant in locations_details]\n",
    "\n",
    "marker_layer = gmaps.marker_layer(locations, info_box_content=plant_info)\n",
    "fig = gmaps.figure(layout={ \n",
    "        'height': '1200px',  \n",
    "})\n",
    "fig.add_layer(marker_layer)\n",
    "fig"
   ]
  },
  {
   "cell_type": "code",
   "execution_count": 26,
   "metadata": {},
   "outputs": [],
   "source": [
    "# !wget https://gist.githubusercontent.com/gabicavalcante/55698106a7dace94fc2d006f077178ef/raw/a3f28da0ed88abde88db6ebe803272422d1c05d4/favelas-natalrn.txt"
   ]
  },
  {
   "cell_type": "code",
   "execution_count": 27,
   "metadata": {},
   "outputs": [
    {
     "name": "stdout",
     "output_type": "stream",
     "text": [
      "['Vila de Ponta Negra', 'África', 'Alemão', 'Aliança', 'Alta Tensão', 'Alto do Guarapes', 'Aparecida', 'Areado', 'Barreiros', 'Beira Rio', 'Boa Soarte', 'Brasília Teimosa', 'Camboim', 'Coqueiros', 'Cruzeiro', 'Curtume', 'Fio', 'Formigueiro', 'Gramoré', 'José Sarney', 'Lagoinha', 'Lavadeiras', 'Mãe Luíza', 'Salgadinho', 'Maruim', 'Mereto', 'Mosquito', 'Novo Horizonte', 'Ocidental de Baixo', 'Ocidenteal de Cima', 'Passo da Pátria', 'Planalto', 'Pompeia', 'Raio de Sol', 'São José do Jacó', 'Sopapo', 'Tenente Procópio', 'Treze de Maio', 'Vietnã']\n"
     ]
    }
   ],
   "source": [
    "# 'Barro Duro'\n",
    "favelas = []\n",
    "filepath = 'favelas-natalrn.txt'\n",
    "with open(filepath) as fp:\n",
    "    for cnt, line in enumerate(fp):  \n",
    "        favelas.append(str(line).replace('\\n', ''))\n",
    "\n",
    "print(favelas)"
   ]
  },
  {
   "cell_type": "code",
   "execution_count": 28,
   "metadata": {},
   "outputs": [],
   "source": [
    "favelas_locations = []\n",
    "favelas_locations_details = []\n",
    "\n",
    "import googlemaps\n",
    "\n",
    "gmaps_client = googlemaps.Client(key=API_KEY_MAPS)\n",
    "geocode_result = gmaps_client.geocode('Natal, RN') \n",
    "\n",
    "for favela in favelas:\n",
    "    # Geocoding an address\n",
    "    geocode_result = gmaps_client.geocode(\n",
    "        '{}, Natal, RN'.format(favela)) \n",
    "    favelas_locations.append((geocode_result[0]['geometry']['location']['lat'], \n",
    "                  geocode_result[0]['geometry']['location']['lng']))"
   ]
  },
  {
   "cell_type": "code",
   "execution_count": 29,
   "metadata": {},
   "outputs": [
    {
     "data": {
      "application/vnd.jupyter.widget-view+json": {
       "model_id": "430085dfc9ad481299af890bddbfaa11",
       "version_major": 2,
       "version_minor": 0
      },
      "text/plain": [
       "Figure(layout=FigureLayout(height='1000px'))"
      ]
     },
     "metadata": {},
     "output_type": "display_data"
    }
   ],
   "source": [
    "assuntos_layer = gmaps.symbol_layer(\n",
    "    locations, fill_color='rgba(0, 150, 0, 0.4)',\n",
    "    stroke_color='rgba(0, 150, 0, 0.4)', scale=2\n",
    ")\n",
    "\n",
    "favelas_layer = gmaps.symbol_layer(\n",
    "    favelas_locations, fill_color='rgba(200, 0, 0, 0.4)',\n",
    "    stroke_color='rgba(200, 0, 0, 0.4)', scale=2\n",
    ")\n",
    "\n",
    "fig = gmaps.figure(layout={ \n",
    "        'height': '1000px',  \n",
    "})\n",
    "fig.add_layer(assuntos_layer)\n",
    "fig.add_layer(favelas_layer)\n",
    "fig"
   ]
  },
  {
   "cell_type": "code",
   "execution_count": 121,
   "metadata": {},
   "outputs": [],
   "source": [
    "#tps://www.brechando.com/2016/04/existe-favela-em-natal/\n",
    "#http://www.tribunadonorte.com.br/noticia/favela-do-mosquito-estado-de-sa-tio/419728"
   ]
  },
  {
   "cell_type": "code",
   "execution_count": null,
   "metadata": {},
   "outputs": [],
   "source": []
  }
 ],
 "metadata": {
  "kernelspec": {
   "display_name": "Python 3",
   "language": "python",
   "name": "python3"
  },
  "language_info": {
   "codemirror_mode": {
    "name": "ipython",
    "version": 3
   },
   "file_extension": ".py",
   "mimetype": "text/x-python",
   "name": "python",
   "nbconvert_exporter": "python",
   "pygments_lexer": "ipython3",
   "version": "3.7.4"
  }
 },
 "nbformat": 4,
 "nbformat_minor": 2
}
